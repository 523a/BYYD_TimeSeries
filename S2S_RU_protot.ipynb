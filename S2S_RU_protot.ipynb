{
 "cells": [
  {
   "cell_type": "markdown",
   "metadata": {},
   "source": [
    "# Прогнозирование временных рядов на основе Seq-2-Seq с использованием однонаправленных и двунаправленных LSTM с глубоким стеком в Keras\n",
    "\n",
    "Ссылка на первоисточник «https://weiminwang.blog/2017/09/29/multivariate-time-series-forecast-using-seq2seq-in-tensorflow/» Вэйминь Ванга.\n",
    "\n",
    "Этот ноутбук предназначен для реализации архитектуры на основе кодировщика-декодера s2q2seq с использованием сетей LSTM. Одно / многоуровневые однонаправленные и двунаправленные LSTM были опробованы и реализованы на наборе данных одномерного временного ряда «аукциннная цена 1000 кликов».\n",
    "\n",
    "Основная цель - подчеркнуть эффективность двунаправленных LSTM в изучении сложных шаблонов данных."
   ]
  },
  {
   "cell_type": "code",
   "execution_count": 1,
   "metadata": {},
   "outputs": [],
   "source": [
    "import pandas as pd\n",
    "import numpy as np\n",
    "import time\n",
    "from keras.models import model_from_json\n",
    "\n",
    "%matplotlib inline\n",
    "import matplotlib.pyplot as plt\n",
    "import seaborn as sns\n",
    "sns.set_style(\"darkgrid\")\n",
    "\n",
    "import tensorflow as tf\n",
    "from tensorflow.keras.models import Model\n",
    "from tensorflow.keras.layers import Input, LSTM, Dense, LSTMCell, RNN, Bidirectional, concatenate\n",
    "from tensorflow.keras.optimizers import Adam\n",
    "from tensorflow.python.keras.callbacks import TensorBoard\n",
    "\n",
    "from sklearn.preprocessing import MinMaxScaler"
   ]
  },
  {
   "cell_type": "markdown",
   "metadata": {},
   "source": [
    "## Прочитать данные\n",
    "Исходный набор данных требует очень небольшой очистки, которую я проделал вручную, поэтому вы можете найти очищенный набор данных в моем репозитории GitHub."
   ]
  },
  {
   "cell_type": "code",
   "execution_count": 2,
   "metadata": {},
   "outputs": [
    {
     "name": "stderr",
     "output_type": "stream",
     "text": [
      "C:\\Users\\nnig9\\anaconda3\\lib\\site-packages\\IPython\\core\\interactiveshell.py:3063: DtypeWarning: Columns (12) have mixed types. Specify dtype option on import or set low_memory=False.\n",
      "  interactivity=interactivity, compiler=compiler, result=result)\n"
     ]
    }
   ],
   "source": [
    "data=pd.read_csv('cl.csv', sep=';', error_bad_lines=False)\n",
    "data = data.query('Bid < 5000')\n",
    "data = data.reset_index()\n"
   ]
  },
  {
   "cell_type": "code",
   "execution_count": 3,
   "metadata": {},
   "outputs": [],
   "source": [
    "data['Bid'] = data['Bid'].apply(lambda x: float(x))\n",
    "data['date'] = pd.to_datetime(data['date'])"
   ]
  },
  {
   "cell_type": "code",
   "execution_count": 4,
   "metadata": {},
   "outputs": [
    {
     "data": {
      "text/html": [
       "<div>\n",
       "<style scoped>\n",
       "    .dataframe tbody tr th:only-of-type {\n",
       "        vertical-align: middle;\n",
       "    }\n",
       "\n",
       "    .dataframe tbody tr th {\n",
       "        vertical-align: top;\n",
       "    }\n",
       "\n",
       "    .dataframe thead th {\n",
       "        text-align: right;\n",
       "    }\n",
       "</style>\n",
       "<table border=\"1\" class=\"dataframe\">\n",
       "  <thead>\n",
       "    <tr style=\"text-align: right;\">\n",
       "      <th></th>\n",
       "      <th>index</th>\n",
       "      <th>Click_ID</th>\n",
       "      <th>date</th>\n",
       "      <th>banner_type</th>\n",
       "      <th>banner_width</th>\n",
       "      <th>banner_heigth</th>\n",
       "      <th>IP</th>\n",
       "      <th>Device_ID</th>\n",
       "      <th>Bid</th>\n",
       "      <th>OS</th>\n",
       "      <th>OS_Version</th>\n",
       "      <th>Device_mode</th>\n",
       "      <th>Connection_Type</th>\n",
       "      <th>Unnamed: 12</th>\n",
       "    </tr>\n",
       "  </thead>\n",
       "  <tbody>\n",
       "    <tr>\n",
       "      <th>0</th>\n",
       "      <td>0</td>\n",
       "      <td>35803771</td>\n",
       "      <td>2019-09-23 21:46:51</td>\n",
       "      <td>simple</td>\n",
       "      <td>768</td>\n",
       "      <td>1024</td>\n",
       "      <td>91.233.43.235</td>\n",
       "      <td>26D00212-C469-4A3C-824D-8FAD9CA1554C</td>\n",
       "      <td>353.0</td>\n",
       "      <td>iOS</td>\n",
       "      <td>ios 9.3</td>\n",
       "      <td>Apple iPad 1</td>\n",
       "      <td>WiFi</td>\n",
       "      <td>NaN</td>\n",
       "    </tr>\n",
       "    <tr>\n",
       "      <th>1</th>\n",
       "      <td>1</td>\n",
       "      <td>35803772</td>\n",
       "      <td>2019-09-23 21:47:17</td>\n",
       "      <td>simple</td>\n",
       "      <td>320</td>\n",
       "      <td>480</td>\n",
       "      <td>5.18.232.72</td>\n",
       "      <td>e51b5d0c-e147-4c7c-a7d9-f54fdbe84918</td>\n",
       "      <td>712.0</td>\n",
       "      <td>Android</td>\n",
       "      <td>android 8</td>\n",
       "      <td>huawei honor 9 lite</td>\n",
       "      <td>None</td>\n",
       "      <td>NaN</td>\n",
       "    </tr>\n",
       "    <tr>\n",
       "      <th>2</th>\n",
       "      <td>2</td>\n",
       "      <td>35803773</td>\n",
       "      <td>2019-09-23 21:47:40</td>\n",
       "      <td>simple</td>\n",
       "      <td>320</td>\n",
       "      <td>480</td>\n",
       "      <td>62.33.118.27</td>\n",
       "      <td>5b47abce-0e7c-46c4-97cf-06e8a4746ef2</td>\n",
       "      <td>353.0</td>\n",
       "      <td>Android</td>\n",
       "      <td>android 5.0.2</td>\n",
       "      <td>lenovo a6010</td>\n",
       "      <td>WiFi</td>\n",
       "      <td>NaN</td>\n",
       "    </tr>\n",
       "    <tr>\n",
       "      <th>3</th>\n",
       "      <td>3</td>\n",
       "      <td>35803774</td>\n",
       "      <td>2019-09-23 21:49:14</td>\n",
       "      <td>simple</td>\n",
       "      <td>320</td>\n",
       "      <td>480</td>\n",
       "      <td>46.8.244.223</td>\n",
       "      <td>19b84b3c-ddcc-4010-815b-1951f77515bf</td>\n",
       "      <td>353.0</td>\n",
       "      <td>Android</td>\n",
       "      <td>android 4.4</td>\n",
       "      <td>None</td>\n",
       "      <td>WiFi</td>\n",
       "      <td>NaN</td>\n",
       "    </tr>\n",
       "    <tr>\n",
       "      <th>4</th>\n",
       "      <td>4</td>\n",
       "      <td>35803775</td>\n",
       "      <td>2019-09-23 21:49:30</td>\n",
       "      <td>simple</td>\n",
       "      <td>320</td>\n",
       "      <td>480</td>\n",
       "      <td>85.93.58.149</td>\n",
       "      <td>b61f2a4d-e008-4526-8654-510c5e4b774f</td>\n",
       "      <td>353.0</td>\n",
       "      <td>Android</td>\n",
       "      <td>android 6.0</td>\n",
       "      <td>micromax q354</td>\n",
       "      <td>WiFi</td>\n",
       "      <td>NaN</td>\n",
       "    </tr>\n",
       "    <tr>\n",
       "      <th>...</th>\n",
       "      <td>...</td>\n",
       "      <td>...</td>\n",
       "      <td>...</td>\n",
       "      <td>...</td>\n",
       "      <td>...</td>\n",
       "      <td>...</td>\n",
       "      <td>...</td>\n",
       "      <td>...</td>\n",
       "      <td>...</td>\n",
       "      <td>...</td>\n",
       "      <td>...</td>\n",
       "      <td>...</td>\n",
       "      <td>...</td>\n",
       "      <td>...</td>\n",
       "    </tr>\n",
       "    <tr>\n",
       "      <th>1387520</th>\n",
       "      <td>1389995</td>\n",
       "      <td>37192376</td>\n",
       "      <td>2020-09-27 04:30:50</td>\n",
       "      <td>simple</td>\n",
       "      <td>320</td>\n",
       "      <td>480</td>\n",
       "      <td>46.249.9.74</td>\n",
       "      <td>b063d92c-85e8-4f50-8555-c7cc5f7d920d</td>\n",
       "      <td>210.0</td>\n",
       "      <td>Android</td>\n",
       "      <td>android 8</td>\n",
       "      <td>huawei dra-lx2</td>\n",
       "      <td>WiFi</td>\n",
       "      <td>NaN</td>\n",
       "    </tr>\n",
       "    <tr>\n",
       "      <th>1387521</th>\n",
       "      <td>1389996</td>\n",
       "      <td>37192377</td>\n",
       "      <td>2020-09-27 04:31:37</td>\n",
       "      <td>simple</td>\n",
       "      <td>320</td>\n",
       "      <td>480</td>\n",
       "      <td>178.205.246.6</td>\n",
       "      <td>5c446c19-27f5-4119-bded-96ccb45bcafb</td>\n",
       "      <td>210.0</td>\n",
       "      <td>Android</td>\n",
       "      <td>None</td>\n",
       "      <td>None</td>\n",
       "      <td>WiFi</td>\n",
       "      <td>NaN</td>\n",
       "    </tr>\n",
       "    <tr>\n",
       "      <th>1387522</th>\n",
       "      <td>1389997</td>\n",
       "      <td>37192378</td>\n",
       "      <td>2020-09-27 04:32:14</td>\n",
       "      <td>simple</td>\n",
       "      <td>320</td>\n",
       "      <td>480</td>\n",
       "      <td>94.140.143.155</td>\n",
       "      <td>076a935a-4263-4cec-a5da-4dd2091c9fc6</td>\n",
       "      <td>171.0</td>\n",
       "      <td>Android</td>\n",
       "      <td>None</td>\n",
       "      <td>samsung sm-a207f</td>\n",
       "      <td>GPRS/EDGE/3G/LTE</td>\n",
       "      <td>NaN</td>\n",
       "    </tr>\n",
       "    <tr>\n",
       "      <th>1387523</th>\n",
       "      <td>1389998</td>\n",
       "      <td>37192379</td>\n",
       "      <td>2020-09-27 04:33:02</td>\n",
       "      <td>simple</td>\n",
       "      <td>320</td>\n",
       "      <td>480</td>\n",
       "      <td>95.153.133.221</td>\n",
       "      <td>6f2d8c62-4d62-4136-bae3-5a8121be4a5d</td>\n",
       "      <td>171.0</td>\n",
       "      <td>Android</td>\n",
       "      <td>android 8</td>\n",
       "      <td>xiaomi redmi 6a</td>\n",
       "      <td>GPRS/EDGE/3G/LTE</td>\n",
       "      <td>NaN</td>\n",
       "    </tr>\n",
       "    <tr>\n",
       "      <th>1387524</th>\n",
       "      <td>1389999</td>\n",
       "      <td>37192380</td>\n",
       "      <td>2020-09-27 04:33:24</td>\n",
       "      <td>simple</td>\n",
       "      <td>320</td>\n",
       "      <td>480</td>\n",
       "      <td>188.162.15.95</td>\n",
       "      <td>3c606d27-ff3b-4619-a1fb-0dee0a4a059b</td>\n",
       "      <td>210.0</td>\n",
       "      <td>Android</td>\n",
       "      <td>android 6</td>\n",
       "      <td>zte blade a510</td>\n",
       "      <td>WiFi</td>\n",
       "      <td>NaN</td>\n",
       "    </tr>\n",
       "  </tbody>\n",
       "</table>\n",
       "<p>1387525 rows × 14 columns</p>\n",
       "</div>"
      ],
      "text/plain": [
       "           index  Click_ID                date banner_type  banner_width  \\\n",
       "0              0  35803771 2019-09-23 21:46:51      simple           768   \n",
       "1              1  35803772 2019-09-23 21:47:17      simple           320   \n",
       "2              2  35803773 2019-09-23 21:47:40      simple           320   \n",
       "3              3  35803774 2019-09-23 21:49:14      simple           320   \n",
       "4              4  35803775 2019-09-23 21:49:30      simple           320   \n",
       "...          ...       ...                 ...         ...           ...   \n",
       "1387520  1389995  37192376 2020-09-27 04:30:50      simple           320   \n",
       "1387521  1389996  37192377 2020-09-27 04:31:37      simple           320   \n",
       "1387522  1389997  37192378 2020-09-27 04:32:14      simple           320   \n",
       "1387523  1389998  37192379 2020-09-27 04:33:02      simple           320   \n",
       "1387524  1389999  37192380 2020-09-27 04:33:24      simple           320   \n",
       "\n",
       "         banner_heigth              IP                             Device_ID  \\\n",
       "0                 1024   91.233.43.235  26D00212-C469-4A3C-824D-8FAD9CA1554C   \n",
       "1                  480     5.18.232.72  e51b5d0c-e147-4c7c-a7d9-f54fdbe84918   \n",
       "2                  480    62.33.118.27  5b47abce-0e7c-46c4-97cf-06e8a4746ef2   \n",
       "3                  480    46.8.244.223  19b84b3c-ddcc-4010-815b-1951f77515bf   \n",
       "4                  480    85.93.58.149  b61f2a4d-e008-4526-8654-510c5e4b774f   \n",
       "...                ...             ...                                   ...   \n",
       "1387520            480     46.249.9.74  b063d92c-85e8-4f50-8555-c7cc5f7d920d   \n",
       "1387521            480   178.205.246.6  5c446c19-27f5-4119-bded-96ccb45bcafb   \n",
       "1387522            480  94.140.143.155  076a935a-4263-4cec-a5da-4dd2091c9fc6   \n",
       "1387523            480  95.153.133.221  6f2d8c62-4d62-4136-bae3-5a8121be4a5d   \n",
       "1387524            480   188.162.15.95  3c606d27-ff3b-4619-a1fb-0dee0a4a059b   \n",
       "\n",
       "           Bid       OS     OS_Version          Device_mode   Connection_Type  \\\n",
       "0        353.0      iOS        ios 9.3         Apple iPad 1              WiFi   \n",
       "1        712.0  Android      android 8  huawei honor 9 lite              None   \n",
       "2        353.0  Android  android 5.0.2         lenovo a6010              WiFi   \n",
       "3        353.0  Android    android 4.4                 None              WiFi   \n",
       "4        353.0  Android    android 6.0        micromax q354              WiFi   \n",
       "...        ...      ...            ...                  ...               ...   \n",
       "1387520  210.0  Android      android 8       huawei dra-lx2              WiFi   \n",
       "1387521  210.0  Android           None                 None              WiFi   \n",
       "1387522  171.0  Android           None     samsung sm-a207f  GPRS/EDGE/3G/LTE   \n",
       "1387523  171.0  Android      android 8      xiaomi redmi 6a  GPRS/EDGE/3G/LTE   \n",
       "1387524  210.0  Android      android 6       zte blade a510              WiFi   \n",
       "\n",
       "        Unnamed: 12  \n",
       "0               NaN  \n",
       "1               NaN  \n",
       "2               NaN  \n",
       "3               NaN  \n",
       "4               NaN  \n",
       "...             ...  \n",
       "1387520         NaN  \n",
       "1387521         NaN  \n",
       "1387522         NaN  \n",
       "1387523         NaN  \n",
       "1387524         NaN  \n",
       "\n",
       "[1387525 rows x 14 columns]"
      ]
     },
     "execution_count": 4,
     "metadata": {},
     "output_type": "execute_result"
    }
   ],
   "source": [
    "data[:-10000]"
   ]
  },
  {
   "cell_type": "markdown",
   "metadata": {},
   "source": [
    "###### series = data['Bid'][:].reset_index()\n",
    "\n",
    "series = data['Bid'][-3000:].reset_index()\n",
    "series = series.drop('index',axis=1)"
   ]
  },
  {
   "cell_type": "code",
   "execution_count": 6,
   "metadata": {},
   "outputs": [],
   "source": [
    "#series"
   ]
  },
  {
   "cell_type": "code",
   "execution_count": 7,
   "metadata": {},
   "outputs": [],
   "source": [
    "seq = series.copy()\n",
    "scaler = MinMaxScaler(feature_range=(-1,1))\n",
    "X =scaler.fit_transform(seq.values.reshape(-1,1))\n",
    "#seq = np.log(seq.values)"
   ]
  },
  {
   "cell_type": "code",
   "execution_count": 8,
   "metadata": {},
   "outputs": [
    {
     "data": {
      "image/png": "[encoded data removed]",
      "text/plain": [
       "<Figure size 1080x504 with 1 Axes>"
      ]
     },
     "metadata": {},
     "output_type": "display_data"
    }
   ],
   "source": [
    "series = X\n",
    "seq = series.copy()\n",
    "seqq = series[-1000:].copy()\n",
    "plt.figure(figsize=(15,7))\n",
    "plt.title(\"Sequence\", fontsize = 18)\n",
    "plt.xlabel(\"Index\", fontsize = 18)\n",
    "plt.ylabel(\"Value\", fontsize = 18)\n",
    "plt.plot(seq[:])\n",
    "plt.show()"
   ]
  },
  {
   "cell_type": "code",
   "execution_count": null,
   "metadata": {},
   "outputs": [],
   "source": []
  },
  {
   "cell_type": "code",
   "execution_count": 9,
   "metadata": {},
   "outputs": [],
   "source": [
    "#scaler = MinMaxScaler(feature_range=(-1,1))\n",
    "#X =scaler.fit_transform(seq.values.reshape(-1,1))"
   ]
  },
  {
   "cell_type": "code",
   "execution_count": 10,
   "metadata": {},
   "outputs": [],
   "source": [
    "#X[:100]"
   ]
  },
  {
   "cell_type": "code",
   "execution_count": 11,
   "metadata": {},
   "outputs": [],
   "source": [
    "#data['Bid']\n",
    "# plt.plot(X[:100])\n",
    "# plt.plot(np.log(data['Bid'][:200]))"
   ]
  },
  {
   "cell_type": "code",
   "execution_count": 12,
   "metadata": {},
   "outputs": [],
   "source": [
    "#1397525\n",
    "x_train = X[:-400]\n",
    "x_test = X[-400:]"
   ]
  },
  {
   "cell_type": "code",
   "execution_count": 13,
   "metadata": {},
   "outputs": [
    {
     "data": {
      "text/plain": [
       "array([[-0.85425101],\n",
       "       [-0.88582996],\n",
       "       [-0.85425101],\n",
       "       ...,\n",
       "       [-0.70040486],\n",
       "       [-0.70040486],\n",
       "       [-0.70040486]])"
      ]
     },
     "execution_count": 13,
     "metadata": {},
     "output_type": "execute_result"
    }
   ],
   "source": [
    "x_train"
   ]
  },
  {
   "cell_type": "markdown",
   "metadata": {},
   "source": [
    "**Обратите внимание**, что в приведенных выше ячейках мы не делали никаких изменений в серии, чтобы преобразовать ее в модель обучения с учителем. Вскоре вы увидите причину, по которой мы этого не сделали.\n",
    "\n",
    "В ячейке ниже определяется длина входной и выходной последовательности. Мы также определяем номера входных характеристик (столбцов) мы даем модели, а номер ожидаемых выходных характеристик (столбцов). В случае многомерных данных нет.номера входных функций будет> 1 в зависимости от того, сколько вы включаете в модель."
   ]
  },
  {
   "cell_type": "code",
   "execution_count": 14,
   "metadata": {},
   "outputs": [
    {
     "data": {
      "text/plain": [
       "10"
      ]
     },
     "execution_count": 14,
     "metadata": {},
     "output_type": "execute_result"
    }
   ],
   "source": [
    "input_seq_len = 60\n",
    "output_seq_len = 20\n",
    "n_in_features = 1\n",
    "n_out_features = 1\n",
    "batch_size = 10\n",
    "batch_size"
   ]
  },
  {
   "cell_type": "markdown",
   "metadata": {},
   "source": [
    "### Помощник для создания тренировочных пакетов.\n",
    "Всего \"input_seq_len + Output_seq_len\" нет. точек будет формировать единую обучающую выборку, где наши входы (X) (входы кодировщика) будут «input_seq», а наши цели (Y) (цели декодера) будут «output_seq». По этой причине мы не сместили последовательность на один шаг при генерации разбиений на тренировка-тест. <br/>\n",
    "Здесь мы выбираем случайные индексы и создаем такие выборки, чтобы сформировать пакет размером = batch_size."
   ]
  },
  {
   "cell_type": "code",
   "execution_count": 15,
   "metadata": {},
   "outputs": [],
   "source": [
    "def generate_train_sequences(x):\n",
    "    \n",
    "    total_start_points = len(x) - input_seq_len - output_seq_len\n",
    "    start_x_idx = np.random.choice(range(total_start_points), total_start_points, replace = False)\n",
    "    \n",
    "    input_batch_idxs = [(range(i, i+input_seq_len)) for i in start_x_idx]\n",
    "    input_seq = np.take(x, input_batch_idxs, axis = 0)\n",
    "    \n",
    "    output_batch_idxs = [(range(i+input_seq_len, i+input_seq_len+output_seq_len)) for i in start_x_idx]\n",
    "    output_seq = np.take(x, output_batch_idxs, axis = 0)\n",
    "    \n",
    "    input_seq =(input_seq.reshape(input_seq.shape[0],input_seq.shape[1],n_in_features))\n",
    "    output_seq=(output_seq.reshape(output_seq.shape[0],output_seq.shape[1],n_out_features))\n",
    "    \n",
    "    return input_seq, output_seq"
   ]
  },
  {
   "cell_type": "code",
   "execution_count": 16,
   "metadata": {},
   "outputs": [],
   "source": [
    "#generate_train_sequences(X)"
   ]
  },
  {
   "cell_type": "markdown",
   "metadata": {},
   "source": [
    "## Построить архитектуру модели"
   ]
  },
  {
   "cell_type": "code",
   "execution_count": 17,
   "metadata": {},
   "outputs": [],
   "source": [
    "def create_model(layers, bidirectional = False):\n",
    "    \n",
    "    n_layers = len(layers)\n",
    "    \n",
    "    ## Encoder\n",
    "    encoder_inputs = Input(shape = (None, n_in_features))\n",
    "    lstm_cells = [LSTMCell(hidden_dim) for hidden_dim in layers]\n",
    "    \n",
    "    if bidirectional:\n",
    "        \n",
    "        encoder = Bidirectional(RNN(lstm_cells, return_state=True))\n",
    "        encoder_outputs_and_states = encoder(encoder_inputs)\n",
    "        bi_encoder_states = encoder_outputs_and_states[1:]\n",
    "        encoder_states = []\n",
    "        \n",
    "        for i in range(int(len(bi_encoder_states) / 2)):\n",
    "            \n",
    "            temp = []\n",
    "            for j in range(2):\n",
    "                \n",
    "                temp.append(concatenate([bi_encoder_states[i][j], bi_encoder_states[n_layers + i][j]], axis = -1))\n",
    "                \n",
    "            encoder_states.append(temp)\n",
    "    else:  \n",
    "        \n",
    "        encoder = RNN(lstm_cells, return_state = True)\n",
    "        encoder_outputs_and_states = encoder(encoder_inputs)\n",
    "        encoder_states = encoder_outputs_and_states[1:]\n",
    "    \n",
    "    ## Decoder\n",
    "    decoder_inputs = Input(shape = (None, n_out_features))\n",
    "    \n",
    "    if bidirectional:\n",
    "        \n",
    "        decoder_cells = [LSTMCell(hidden_dim*2) for hidden_dim in layers]\n",
    "    else:\n",
    "        \n",
    "        decoder_cells = [LSTMCell(hidden_dim) for hidden_dim in layers]\n",
    "        \n",
    "    decoder_lstm = RNN(decoder_cells, return_sequences = True, return_state=True)\n",
    "    decoder_outputs_and_states = decoder_lstm(decoder_inputs, initial_state = encoder_states)\n",
    "    decoder_outputs = decoder_outputs_and_states[0]\n",
    "    decoder_dense = Dense(n_out_features) \n",
    "    decoder_outputs = decoder_dense(decoder_outputs)\n",
    "    \n",
    "    model = Model([encoder_inputs,decoder_inputs], decoder_outputs)\n",
    "    return model"
   ]
  },
  {
   "cell_type": "markdown",
   "metadata": {},
   "source": [
    "**Обратите внимание**, что если выбрана двунаправленность, тогда длина ячеек декодера будет вдвое больше, чем у кодера, поскольку мы объединяем прямое и обратное состояния кодера.\n",
    "\n",
    "## Запускаем model.fit"
   ]
  },
  {
   "cell_type": "code",
   "execution_count": 18,
   "metadata": {},
   "outputs": [],
   "source": [
    "callbacks = [TensorBoard(log_dir='tb_logs_s2s', histogram_freq=1, write_images=True)]"
   ]
  },
  {
   "cell_type": "code",
   "execution_count": 19,
   "metadata": {},
   "outputs": [],
   "source": [
    "def run_model(model,batches,epochs,batch_size):\n",
    "    global history\n",
    "    for _ in range(batches):\n",
    "\n",
    "        input_seq, output_seq = generate_train_sequences(x_train)\n",
    "\n",
    "        encoder_input_data = input_seq\n",
    "        decoder_target_data = output_seq\n",
    "        decoder_input_data = np.zeros(decoder_target_data.shape)\n",
    "\n",
    "        history = model.fit([encoder_input_data, decoder_input_data], decoder_target_data,\n",
    "                             batch_size=batch_size,\n",
    "                             epochs=epochs,\n",
    "                             validation_split=0.1, \n",
    "                             shuffle=False,\n",
    "                             callbacks=callbacks)\n",
    "                           \n",
    "        total_loss.append(history.history['loss'])\n",
    "        total_val_loss.append(history.history['val_loss'])"
   ]
  },
  {
   "cell_type": "code",
   "execution_count": 20,
   "metadata": {},
   "outputs": [],
   "source": [
    "def plot_loss(train_loss,val_loss):\n",
    "    plt.figure(figsize=(12,7))\n",
    "    plt.plot(train_loss)\n",
    "    plt.plot(val_loss)\n",
    "\n",
    "    plt.xlabel('Epoch')\n",
    "    plt.ylabel('Mean Sqquared Error Loss')\n",
    "    plt.title('Loss Over Time')\n",
    "    plt.legend(['Train','Valid'])\n",
    "    plt.show()"
   ]
  },
  {
   "cell_type": "markdown",
   "metadata": {},
   "source": [
    "# 1 Однонаправленный 1-слойный"
   ]
  },
  {
   "cell_type": "code",
   "execution_count": 22,
   "metadata": {},
   "outputs": [],
   "source": [
    "# from keras.models import model_from_json\n",
    "# # load json and create model\n",
    "# json_file = open('model_1.json', 'r')\n",
    "# loaded_model_json = json_file.read()\n",
    "# json_file.close()\n",
    "# model_1 = model_from_json(loaded_model_json)\n",
    "# # load weights into new model\n",
    "# model_1.load_weights(\"model_1.h5\")\n",
    "# print(\"Loaded model from disk\")"
   ]
  },
  {
   "cell_type": "markdown",
   "metadata": {},
   "source": [
    "**Обратите внимание**, что аргумент Layers должен быть списком latent_dims в каждом слое. Пример для 2 слоев по 40 димов в каждом ==> [40,40]."
   ]
  },
  {
   "cell_type": "code",
   "execution_count": 23,
   "metadata": {},
   "outputs": [],
   "source": [
    "total_loss = []\n",
    "total_val_loss = []\n",
    "model_1.compile(Adam(), loss = 'mean_squared_error')"
   ]
  },
  {
   "cell_type": "code",
   "execution_count": 24,
   "metadata": {},
   "outputs": [
    {
     "name": "stdout",
     "output_type": "stream",
     "text": [
      "Epoch 1/100\n",
      "  1/407 [..............................] - ETA: 0s - loss: 0.5011WARNING:tensorflow:From C:\\Users\\nnig9\\anaconda3\\lib\\site-packages\\tensorflow\\python\\ops\\summary_ops_v2.py:1277: stop (from tensorflow.python.eager.profiler) is deprecated and will be removed after 2020-07-01.\n",
      "Instructions for updating:\n",
      "use `tf.profiler.experimental.stop` instead.\n",
      "  2/407 [..............................] - ETA: 40s - loss: 0.3462WARNING:tensorflow:Callbacks method `on_train_batch_end` is slow compared to the batch time (batch time: 0.0240s vs `on_train_batch_end` time: 0.1750s). Check your callbacks.\n",
      "407/407 [==============================] - 7s 18ms/step - loss: 0.0769 - val_loss: 0.0646\n",
      "Epoch 2/100\n",
      "407/407 [==============================] - 7s 17ms/step - loss: 0.0716 - val_loss: 0.0643\n",
      "Epoch 3/100\n",
      "407/407 [==============================] - 7s 17ms/step - loss: 0.0717 - val_loss: 0.0643\n",
      "Epoch 4/100\n",
      "407/407 [==============================] - 7s 17ms/step - loss: 0.0711 - val_loss: 0.0642\n",
      "Epoch 5/100\n",
      "407/407 [==============================] - 7s 17ms/step - loss: 0.0706 - val_loss: 0.0643\n",
      "Epoch 6/100\n",
      "407/407 [==============================] - 7s 17ms/step - loss: 0.0702 - val_loss: 0.0641\n",
      "Epoch 7/100\n",
      "407/407 [==============================] - 7s 17ms/step - loss: 0.0699 - val_loss: 0.0636\n",
      "Epoch 8/100\n",
      "407/407 [==============================] - 7s 17ms/step - loss: 0.0689 - val_loss: 0.0622\n",
      "Epoch 9/100\n",
      "407/407 [==============================] - 7s 17ms/step - loss: 0.0674 - val_loss: 0.0614\n",
      "Epoch 10/100\n",
      "407/407 [==============================] - 7s 17ms/step - loss: 0.0670 - val_loss: 0.0608\n",
      "Epoch 11/100\n",
      "407/407 [==============================] - 7s 17ms/step - loss: 0.0660 - val_loss: 0.0617\n",
      "Epoch 12/100\n",
      "407/407 [==============================] - 7s 17ms/step - loss: 0.0656 - val_loss: 0.0606\n",
      "Epoch 13/100\n",
      "407/407 [==============================] - 7s 17ms/step - loss: 0.0653 - val_loss: 0.0597\n",
      "Epoch 14/100\n",
      "407/407 [==============================] - 7s 17ms/step - loss: 0.0644 - val_loss: 0.0600\n",
      "Epoch 15/100\n",
      "407/407 [==============================] - 7s 17ms/step - loss: 0.0662 - val_loss: 0.0597\n",
      "Epoch 16/100\n",
      "407/407 [==============================] - 7s 17ms/step - loss: 0.0658 - val_loss: 0.0595\n",
      "Epoch 17/100\n",
      "407/407 [==============================] - 7s 17ms/step - loss: 0.0642 - val_loss: 0.0597\n",
      "Epoch 18/100\n",
      "407/407 [==============================] - 7s 17ms/step - loss: 0.0633 - val_loss: 0.0587\n",
      "Epoch 19/100\n",
      "407/407 [==============================] - 7s 17ms/step - loss: 0.0636 - val_loss: 0.0582\n",
      "Epoch 20/100\n",
      "407/407 [==============================] - 7s 17ms/step - loss: 0.0626 - val_loss: 0.0584\n",
      "Epoch 21/100\n",
      "407/407 [==============================] - 7s 17ms/step - loss: 0.0622 - val_loss: 0.0592\n",
      "Epoch 22/100\n",
      "407/407 [==============================] - 7s 17ms/step - loss: 0.0663 - val_loss: 0.0595\n",
      "Epoch 23/100\n",
      "407/407 [==============================] - 7s 17ms/step - loss: 0.0621 - val_loss: 0.0575\n",
      "Epoch 24/100\n",
      "407/407 [==============================] - 7s 17ms/step - loss: 0.0613 - val_loss: 0.0574\n",
      "Epoch 25/100\n",
      "407/407 [==============================] - 7s 17ms/step - loss: 0.0605 - val_loss: 0.0577\n",
      "Epoch 26/100\n",
      "407/407 [==============================] - 7s 17ms/step - loss: 0.0597 - val_loss: 0.0570\n",
      "Epoch 27/100\n",
      "407/407 [==============================] - 7s 17ms/step - loss: 0.0607 - val_loss: 0.0572\n",
      "Epoch 28/100\n",
      "407/407 [==============================] - 7s 17ms/step - loss: 0.0601 - val_loss: 0.0573\n",
      "Epoch 29/100\n",
      "407/407 [==============================] - 7s 17ms/step - loss: 0.0580 - val_loss: 0.0563\n",
      "Epoch 30/100\n",
      "407/407 [==============================] - 7s 16ms/step - loss: 0.0589 - val_loss: 0.0554\n",
      "Epoch 31/100\n",
      "407/407 [==============================] - 7s 17ms/step - loss: 0.0583 - val_loss: 0.0576\n",
      "Epoch 32/100\n",
      "407/407 [==============================] - 7s 17ms/step - loss: 0.0579 - val_loss: 0.0581\n",
      "Epoch 33/100\n",
      "407/407 [==============================] - 7s 17ms/step - loss: 0.0567 - val_loss: 0.0558\n",
      "Epoch 34/100\n",
      "407/407 [==============================] - 7s 17ms/step - loss: 0.0571 - val_loss: 0.0567\n",
      "Epoch 35/100\n",
      "407/407 [==============================] - 7s 16ms/step - loss: 0.0558 - val_loss: 0.0559\n",
      "Epoch 36/100\n",
      "407/407 [==============================] - 7s 17ms/step - loss: 0.0546 - val_loss: 0.0547\n",
      "Epoch 37/100\n",
      "407/407 [==============================] - 7s 17ms/step - loss: 0.0550 - val_loss: 0.0574\n",
      "Epoch 38/100\n",
      "407/407 [==============================] - 7s 16ms/step - loss: 0.0551 - val_loss: 0.0538\n",
      "Epoch 39/100\n",
      "407/407 [==============================] - 7s 16ms/step - loss: 0.0528 - val_loss: 0.0527\n",
      "Epoch 40/100\n",
      "407/407 [==============================] - 7s 17ms/step - loss: 0.0526 - val_loss: 0.0559\n",
      "Epoch 41/100\n",
      "407/407 [==============================] - 7s 17ms/step - loss: 0.0524 - val_loss: 0.0528\n",
      "Epoch 42/100\n",
      "407/407 [==============================] - 7s 17ms/step - loss: 0.0510 - val_loss: 0.0517- ETA: 0s - \n",
      "Epoch 43/100\n",
      "407/407 [==============================] - 7s 17ms/step - loss: 0.0535 - val_loss: 0.0528\n",
      "Epoch 44/100\n",
      "407/407 [==============================] - 7s 17ms/step - loss: 0.0514 - val_loss: 0.0512\n",
      "Epoch 45/100\n",
      "407/407 [==============================] - 7s 16ms/step - loss: 0.0515 - val_loss: 0.0538\n",
      "Epoch 46/100\n",
      "407/407 [==============================] - 7s 16ms/step - loss: 0.0514 - val_loss: 0.0503\n",
      "Epoch 47/100\n",
      "350/407 [========================>.....] - ETA: 0s - loss: 0.0516"
     ]
    },
    {
     "ename": "KeyboardInterrupt",
     "evalue": "",
     "output_type": "error",
     "traceback": [
      "\u001b[1;31m---------------------------------------------------------------------------\u001b[0m",
      "\u001b[1;31mKeyboardInterrupt\u001b[0m                         Traceback (most recent call last)",
      "\u001b[1;32m<ipython-input-24-8ad817ece03e>\u001b[0m in \u001b[0;36m<module>\u001b[1;34m\u001b[0m\n\u001b[0;32m      1\u001b[0m \u001b[0mstart_time\u001b[0m \u001b[1;33m=\u001b[0m \u001b[0mtime\u001b[0m\u001b[1;33m.\u001b[0m\u001b[0mtime\u001b[0m\u001b[1;33m(\u001b[0m\u001b[1;33m)\u001b[0m\u001b[1;33m\u001b[0m\u001b[1;33m\u001b[0m\u001b[0m\n\u001b[1;32m----> 2\u001b[1;33m \u001b[0mrun_model\u001b[0m\u001b[1;33m(\u001b[0m\u001b[0mmodel_1\u001b[0m\u001b[1;33m,\u001b[0m\u001b[0mbatches\u001b[0m\u001b[1;33m=\u001b[0m\u001b[1;36m1\u001b[0m\u001b[1;33m,\u001b[0m \u001b[0mepochs\u001b[0m\u001b[1;33m=\u001b[0m\u001b[1;36m100\u001b[0m\u001b[1;33m,\u001b[0m \u001b[0mbatch_size\u001b[0m\u001b[1;33m=\u001b[0m\u001b[0mbatch_size\u001b[0m\u001b[1;33m)\u001b[0m\u001b[1;33m\u001b[0m\u001b[1;33m\u001b[0m\u001b[0m\n\u001b[0m\u001b[0;32m      3\u001b[0m \u001b[0mend_time\u001b[0m \u001b[1;33m=\u001b[0m \u001b[0mtime\u001b[0m\u001b[1;33m.\u001b[0m\u001b[0mtime\u001b[0m\u001b[1;33m(\u001b[0m\u001b[1;33m)\u001b[0m\u001b[1;33m\u001b[0m\u001b[1;33m\u001b[0m\u001b[0m\n",
      "\u001b[1;32m<ipython-input-19-9641b30f42b3>\u001b[0m in \u001b[0;36mrun_model\u001b[1;34m(model, batches, epochs, batch_size)\u001b[0m\n\u001b[0;32m     14\u001b[0m                              \u001b[0mvalidation_split\u001b[0m\u001b[1;33m=\u001b[0m\u001b[1;36m0.1\u001b[0m\u001b[1;33m,\u001b[0m\u001b[1;33m\u001b[0m\u001b[1;33m\u001b[0m\u001b[0m\n\u001b[0;32m     15\u001b[0m                              \u001b[0mshuffle\u001b[0m\u001b[1;33m=\u001b[0m\u001b[1;32mFalse\u001b[0m\u001b[1;33m,\u001b[0m\u001b[1;33m\u001b[0m\u001b[1;33m\u001b[0m\u001b[0m\n\u001b[1;32m---> 16\u001b[1;33m                              callbacks=callbacks)\n\u001b[0m\u001b[0;32m     17\u001b[0m \u001b[1;33m\u001b[0m\u001b[0m\n\u001b[0;32m     18\u001b[0m         \u001b[0mtotal_loss\u001b[0m\u001b[1;33m.\u001b[0m\u001b[0mappend\u001b[0m\u001b[1;33m(\u001b[0m\u001b[0mhistory\u001b[0m\u001b[1;33m.\u001b[0m\u001b[0mhistory\u001b[0m\u001b[1;33m[\u001b[0m\u001b[1;34m'loss'\u001b[0m\u001b[1;33m]\u001b[0m\u001b[1;33m)\u001b[0m\u001b[1;33m\u001b[0m\u001b[1;33m\u001b[0m\u001b[0m\n",
      "\u001b[1;32m~\\anaconda3\\lib\\site-packages\\tensorflow\\python\\keras\\engine\\training.py\u001b[0m in \u001b[0;36m_method_wrapper\u001b[1;34m(self, *args, **kwargs)\u001b[0m\n\u001b[0;32m    106\u001b[0m   \u001b[1;32mdef\u001b[0m \u001b[0m_method_wrapper\u001b[0m\u001b[1;33m(\u001b[0m\u001b[0mself\u001b[0m\u001b[1;33m,\u001b[0m \u001b[1;33m*\u001b[0m\u001b[0margs\u001b[0m\u001b[1;33m,\u001b[0m \u001b[1;33m**\u001b[0m\u001b[0mkwargs\u001b[0m\u001b[1;33m)\u001b[0m\u001b[1;33m:\u001b[0m\u001b[1;33m\u001b[0m\u001b[1;33m\u001b[0m\u001b[0m\n\u001b[0;32m    107\u001b[0m     \u001b[1;32mif\u001b[0m \u001b[1;32mnot\u001b[0m \u001b[0mself\u001b[0m\u001b[1;33m.\u001b[0m\u001b[0m_in_multi_worker_mode\u001b[0m\u001b[1;33m(\u001b[0m\u001b[1;33m)\u001b[0m\u001b[1;33m:\u001b[0m  \u001b[1;31m# pylint: disable=protected-access\u001b[0m\u001b[1;33m\u001b[0m\u001b[1;33m\u001b[0m\u001b[0m\n\u001b[1;32m--> 108\u001b[1;33m       \u001b[1;32mreturn\u001b[0m \u001b[0mmethod\u001b[0m\u001b[1;33m(\u001b[0m\u001b[0mself\u001b[0m\u001b[1;33m,\u001b[0m \u001b[1;33m*\u001b[0m\u001b[0margs\u001b[0m\u001b[1;33m,\u001b[0m \u001b[1;33m**\u001b[0m\u001b[0mkwargs\u001b[0m\u001b[1;33m)\u001b[0m\u001b[1;33m\u001b[0m\u001b[1;33m\u001b[0m\u001b[0m\n\u001b[0m\u001b[0;32m    109\u001b[0m \u001b[1;33m\u001b[0m\u001b[0m\n\u001b[0;32m    110\u001b[0m     \u001b[1;31m# Running inside `run_distribute_coordinator` already.\u001b[0m\u001b[1;33m\u001b[0m\u001b[1;33m\u001b[0m\u001b[1;33m\u001b[0m\u001b[0m\n",
      "\u001b[1;32m~\\anaconda3\\lib\\site-packages\\tensorflow\\python\\keras\\engine\\training.py\u001b[0m in \u001b[0;36mfit\u001b[1;34m(self, x, y, batch_size, epochs, verbose, callbacks, validation_split, validation_data, shuffle, class_weight, sample_weight, initial_epoch, steps_per_epoch, validation_steps, validation_batch_size, validation_freq, max_queue_size, workers, use_multiprocessing)\u001b[0m\n\u001b[0;32m   1096\u001b[0m                 batch_size=batch_size):\n\u001b[0;32m   1097\u001b[0m               \u001b[0mcallbacks\u001b[0m\u001b[1;33m.\u001b[0m\u001b[0mon_train_batch_begin\u001b[0m\u001b[1;33m(\u001b[0m\u001b[0mstep\u001b[0m\u001b[1;33m)\u001b[0m\u001b[1;33m\u001b[0m\u001b[1;33m\u001b[0m\u001b[0m\n\u001b[1;32m-> 1098\u001b[1;33m               \u001b[0mtmp_logs\u001b[0m \u001b[1;33m=\u001b[0m \u001b[0mtrain_function\u001b[0m\u001b[1;33m(\u001b[0m\u001b[0miterator\u001b[0m\u001b[1;33m)\u001b[0m\u001b[1;33m\u001b[0m\u001b[1;33m\u001b[0m\u001b[0m\n\u001b[0m\u001b[0;32m   1099\u001b[0m               \u001b[1;32mif\u001b[0m \u001b[0mdata_handler\u001b[0m\u001b[1;33m.\u001b[0m\u001b[0mshould_sync\u001b[0m\u001b[1;33m:\u001b[0m\u001b[1;33m\u001b[0m\u001b[1;33m\u001b[0m\u001b[0m\n\u001b[0;32m   1100\u001b[0m                 \u001b[0mcontext\u001b[0m\u001b[1;33m.\u001b[0m\u001b[0masync_wait\u001b[0m\u001b[1;33m(\u001b[0m\u001b[1;33m)\u001b[0m\u001b[1;33m\u001b[0m\u001b[1;33m\u001b[0m\u001b[0m\n",
      "\u001b[1;32m~\\anaconda3\\lib\\site-packages\\tensorflow\\python\\eager\\def_function.py\u001b[0m in \u001b[0;36m__call__\u001b[1;34m(self, *args, **kwds)\u001b[0m\n\u001b[0;32m    778\u001b[0m       \u001b[1;32melse\u001b[0m\u001b[1;33m:\u001b[0m\u001b[1;33m\u001b[0m\u001b[1;33m\u001b[0m\u001b[0m\n\u001b[0;32m    779\u001b[0m         \u001b[0mcompiler\u001b[0m \u001b[1;33m=\u001b[0m \u001b[1;34m\"nonXla\"\u001b[0m\u001b[1;33m\u001b[0m\u001b[1;33m\u001b[0m\u001b[0m\n\u001b[1;32m--> 780\u001b[1;33m         \u001b[0mresult\u001b[0m \u001b[1;33m=\u001b[0m \u001b[0mself\u001b[0m\u001b[1;33m.\u001b[0m\u001b[0m_call\u001b[0m\u001b[1;33m(\u001b[0m\u001b[1;33m*\u001b[0m\u001b[0margs\u001b[0m\u001b[1;33m,\u001b[0m \u001b[1;33m**\u001b[0m\u001b[0mkwds\u001b[0m\u001b[1;33m)\u001b[0m\u001b[1;33m\u001b[0m\u001b[1;33m\u001b[0m\u001b[0m\n\u001b[0m\u001b[0;32m    781\u001b[0m \u001b[1;33m\u001b[0m\u001b[0m\n\u001b[0;32m    782\u001b[0m       \u001b[0mnew_tracing_count\u001b[0m \u001b[1;33m=\u001b[0m \u001b[0mself\u001b[0m\u001b[1;33m.\u001b[0m\u001b[0m_get_tracing_count\u001b[0m\u001b[1;33m(\u001b[0m\u001b[1;33m)\u001b[0m\u001b[1;33m\u001b[0m\u001b[1;33m\u001b[0m\u001b[0m\n",
      "\u001b[1;32m~\\anaconda3\\lib\\site-packages\\tensorflow\\python\\eager\\def_function.py\u001b[0m in \u001b[0;36m_call\u001b[1;34m(self, *args, **kwds)\u001b[0m\n\u001b[0;32m    805\u001b[0m       \u001b[1;31m# In this case we have created variables on the first call, so we run the\u001b[0m\u001b[1;33m\u001b[0m\u001b[1;33m\u001b[0m\u001b[1;33m\u001b[0m\u001b[0m\n\u001b[0;32m    806\u001b[0m       \u001b[1;31m# defunned version which is guaranteed to never create variables.\u001b[0m\u001b[1;33m\u001b[0m\u001b[1;33m\u001b[0m\u001b[1;33m\u001b[0m\u001b[0m\n\u001b[1;32m--> 807\u001b[1;33m       \u001b[1;32mreturn\u001b[0m \u001b[0mself\u001b[0m\u001b[1;33m.\u001b[0m\u001b[0m_stateless_fn\u001b[0m\u001b[1;33m(\u001b[0m\u001b[1;33m*\u001b[0m\u001b[0margs\u001b[0m\u001b[1;33m,\u001b[0m \u001b[1;33m**\u001b[0m\u001b[0mkwds\u001b[0m\u001b[1;33m)\u001b[0m  \u001b[1;31m# pylint: disable=not-callable\u001b[0m\u001b[1;33m\u001b[0m\u001b[1;33m\u001b[0m\u001b[0m\n\u001b[0m\u001b[0;32m    808\u001b[0m     \u001b[1;32melif\u001b[0m \u001b[0mself\u001b[0m\u001b[1;33m.\u001b[0m\u001b[0m_stateful_fn\u001b[0m \u001b[1;32mis\u001b[0m \u001b[1;32mnot\u001b[0m \u001b[1;32mNone\u001b[0m\u001b[1;33m:\u001b[0m\u001b[1;33m\u001b[0m\u001b[1;33m\u001b[0m\u001b[0m\n\u001b[0;32m    809\u001b[0m       \u001b[1;31m# Release the lock early so that multiple threads can perform the call\u001b[0m\u001b[1;33m\u001b[0m\u001b[1;33m\u001b[0m\u001b[1;33m\u001b[0m\u001b[0m\n",
      "\u001b[1;32m~\\anaconda3\\lib\\site-packages\\tensorflow\\python\\eager\\function.py\u001b[0m in \u001b[0;36m__call__\u001b[1;34m(self, *args, **kwargs)\u001b[0m\n\u001b[0;32m   2827\u001b[0m     \u001b[1;32mwith\u001b[0m \u001b[0mself\u001b[0m\u001b[1;33m.\u001b[0m\u001b[0m_lock\u001b[0m\u001b[1;33m:\u001b[0m\u001b[1;33m\u001b[0m\u001b[1;33m\u001b[0m\u001b[0m\n\u001b[0;32m   2828\u001b[0m       \u001b[0mgraph_function\u001b[0m\u001b[1;33m,\u001b[0m \u001b[0margs\u001b[0m\u001b[1;33m,\u001b[0m \u001b[0mkwargs\u001b[0m \u001b[1;33m=\u001b[0m \u001b[0mself\u001b[0m\u001b[1;33m.\u001b[0m\u001b[0m_maybe_define_function\u001b[0m\u001b[1;33m(\u001b[0m\u001b[0margs\u001b[0m\u001b[1;33m,\u001b[0m \u001b[0mkwargs\u001b[0m\u001b[1;33m)\u001b[0m\u001b[1;33m\u001b[0m\u001b[1;33m\u001b[0m\u001b[0m\n\u001b[1;32m-> 2829\u001b[1;33m     \u001b[1;32mreturn\u001b[0m \u001b[0mgraph_function\u001b[0m\u001b[1;33m.\u001b[0m\u001b[0m_filtered_call\u001b[0m\u001b[1;33m(\u001b[0m\u001b[0margs\u001b[0m\u001b[1;33m,\u001b[0m \u001b[0mkwargs\u001b[0m\u001b[1;33m)\u001b[0m  \u001b[1;31m# pylint: disable=protected-access\u001b[0m\u001b[1;33m\u001b[0m\u001b[1;33m\u001b[0m\u001b[0m\n\u001b[0m\u001b[0;32m   2830\u001b[0m \u001b[1;33m\u001b[0m\u001b[0m\n\u001b[0;32m   2831\u001b[0m   \u001b[1;33m@\u001b[0m\u001b[0mproperty\u001b[0m\u001b[1;33m\u001b[0m\u001b[1;33m\u001b[0m\u001b[0m\n",
      "\u001b[1;32m~\\anaconda3\\lib\\site-packages\\tensorflow\\python\\eager\\function.py\u001b[0m in \u001b[0;36m_filtered_call\u001b[1;34m(self, args, kwargs, cancellation_manager)\u001b[0m\n\u001b[0;32m   1846\u001b[0m                            resource_variable_ops.BaseResourceVariable))],\n\u001b[0;32m   1847\u001b[0m         \u001b[0mcaptured_inputs\u001b[0m\u001b[1;33m=\u001b[0m\u001b[0mself\u001b[0m\u001b[1;33m.\u001b[0m\u001b[0mcaptured_inputs\u001b[0m\u001b[1;33m,\u001b[0m\u001b[1;33m\u001b[0m\u001b[1;33m\u001b[0m\u001b[0m\n\u001b[1;32m-> 1848\u001b[1;33m         cancellation_manager=cancellation_manager)\n\u001b[0m\u001b[0;32m   1849\u001b[0m \u001b[1;33m\u001b[0m\u001b[0m\n\u001b[0;32m   1850\u001b[0m   \u001b[1;32mdef\u001b[0m \u001b[0m_call_flat\u001b[0m\u001b[1;33m(\u001b[0m\u001b[0mself\u001b[0m\u001b[1;33m,\u001b[0m \u001b[0margs\u001b[0m\u001b[1;33m,\u001b[0m \u001b[0mcaptured_inputs\u001b[0m\u001b[1;33m,\u001b[0m \u001b[0mcancellation_manager\u001b[0m\u001b[1;33m=\u001b[0m\u001b[1;32mNone\u001b[0m\u001b[1;33m)\u001b[0m\u001b[1;33m:\u001b[0m\u001b[1;33m\u001b[0m\u001b[1;33m\u001b[0m\u001b[0m\n",
      "\u001b[1;32m~\\anaconda3\\lib\\site-packages\\tensorflow\\python\\eager\\function.py\u001b[0m in \u001b[0;36m_call_flat\u001b[1;34m(self, args, captured_inputs, cancellation_manager)\u001b[0m\n\u001b[0;32m   1922\u001b[0m       \u001b[1;31m# No tape is watching; skip to running the function.\u001b[0m\u001b[1;33m\u001b[0m\u001b[1;33m\u001b[0m\u001b[1;33m\u001b[0m\u001b[0m\n\u001b[0;32m   1923\u001b[0m       return self._build_call_outputs(self._inference_function.call(\n\u001b[1;32m-> 1924\u001b[1;33m           ctx, args, cancellation_manager=cancellation_manager))\n\u001b[0m\u001b[0;32m   1925\u001b[0m     forward_backward = self._select_forward_and_backward_functions(\n\u001b[0;32m   1926\u001b[0m         \u001b[0margs\u001b[0m\u001b[1;33m,\u001b[0m\u001b[1;33m\u001b[0m\u001b[1;33m\u001b[0m\u001b[0m\n",
      "\u001b[1;32m~\\anaconda3\\lib\\site-packages\\tensorflow\\python\\eager\\function.py\u001b[0m in \u001b[0;36mcall\u001b[1;34m(self, ctx, args, cancellation_manager)\u001b[0m\n\u001b[0;32m    548\u001b[0m               \u001b[0minputs\u001b[0m\u001b[1;33m=\u001b[0m\u001b[0margs\u001b[0m\u001b[1;33m,\u001b[0m\u001b[1;33m\u001b[0m\u001b[1;33m\u001b[0m\u001b[0m\n\u001b[0;32m    549\u001b[0m               \u001b[0mattrs\u001b[0m\u001b[1;33m=\u001b[0m\u001b[0mattrs\u001b[0m\u001b[1;33m,\u001b[0m\u001b[1;33m\u001b[0m\u001b[1;33m\u001b[0m\u001b[0m\n\u001b[1;32m--> 550\u001b[1;33m               ctx=ctx)\n\u001b[0m\u001b[0;32m    551\u001b[0m         \u001b[1;32melse\u001b[0m\u001b[1;33m:\u001b[0m\u001b[1;33m\u001b[0m\u001b[1;33m\u001b[0m\u001b[0m\n\u001b[0;32m    552\u001b[0m           outputs = execute.execute_with_cancellation(\n",
      "\u001b[1;32m~\\anaconda3\\lib\\site-packages\\tensorflow\\python\\eager\\execute.py\u001b[0m in \u001b[0;36mquick_execute\u001b[1;34m(op_name, num_outputs, inputs, attrs, ctx, name)\u001b[0m\n\u001b[0;32m     58\u001b[0m     \u001b[0mctx\u001b[0m\u001b[1;33m.\u001b[0m\u001b[0mensure_initialized\u001b[0m\u001b[1;33m(\u001b[0m\u001b[1;33m)\u001b[0m\u001b[1;33m\u001b[0m\u001b[1;33m\u001b[0m\u001b[0m\n\u001b[0;32m     59\u001b[0m     tensors = pywrap_tfe.TFE_Py_Execute(ctx._handle, device_name, op_name,\n\u001b[1;32m---> 60\u001b[1;33m                                         inputs, attrs, num_outputs)\n\u001b[0m\u001b[0;32m     61\u001b[0m   \u001b[1;32mexcept\u001b[0m \u001b[0mcore\u001b[0m\u001b[1;33m.\u001b[0m\u001b[0m_NotOkStatusException\u001b[0m \u001b[1;32mas\u001b[0m \u001b[0me\u001b[0m\u001b[1;33m:\u001b[0m\u001b[1;33m\u001b[0m\u001b[1;33m\u001b[0m\u001b[0m\n\u001b[0;32m     62\u001b[0m     \u001b[1;32mif\u001b[0m \u001b[0mname\u001b[0m \u001b[1;32mis\u001b[0m \u001b[1;32mnot\u001b[0m \u001b[1;32mNone\u001b[0m\u001b[1;33m:\u001b[0m\u001b[1;33m\u001b[0m\u001b[1;33m\u001b[0m\u001b[0m\n",
      "\u001b[1;31mKeyboardInterrupt\u001b[0m: "
     ]
    }
   ],
   "source": [
    "start_time = time.time()\n",
    "run_model(model_1,batches=1, epochs=100, batch_size=batch_size)\n",
    "end_time = time.time()"
   ]
  },
  {
   "cell_type": "code",
   "execution_count": null,
   "metadata": {},
   "outputs": [],
   "source": [
    "#history.history['loss']"
   ]
  },
  {
   "cell_type": "code",
   "execution_count": null,
   "metadata": {},
   "outputs": [],
   "source": [
    "run_time = (end_time - start_time)/60\n",
    "run_time"
   ]
  },
  {
   "cell_type": "code",
   "execution_count": null,
   "metadata": {},
   "outputs": [],
   "source": [
    "total_loss = [j for i in total_loss for j in i]\n",
    "total_val_loss = [j for i in total_val_loss for j in i]"
   ]
  },
  {
   "cell_type": "code",
   "execution_count": null,
   "metadata": {},
   "outputs": [],
   "source": [
    "history.historyn.keys()"
   ]
  },
  {
   "cell_type": "code",
   "execution_count": null,
   "metadata": {},
   "outputs": [],
   "source": [
    "def plot_loss(train_loss,val_loss):\n",
    "    plt.figure(figsize=(12,7))\n",
    "    plt.plot(train_loss)\n",
    "    plt.plot(val_loss)\n",
    "\n",
    "    plt.xlabel('Epoch')\n",
    "    plt.ylabel('Mean Sqquared Error Loss')\n",
    "    plt.title('Loss Over Time')\n",
    "    plt.legend(['Train','Valid'])\n",
    "    plt.show()"
   ]
  },
  {
   "cell_type": "code",
   "execution_count": null,
   "metadata": {},
   "outputs": [],
   "source": [
    "plot_loss(total_loss,total_val_loss)"
   ]
  },
  {
   "cell_type": "code",
   "execution_count": null,
   "metadata": {},
   "outputs": [],
   "source": [
    "input_seq_test = x_train[-60:].reshape((1,60,1))\n",
    "output_seq_test = x_test[:20]\n",
    "decoder_input_test = np.zeros((1,output_seq_len,1))"
   ]
  },
  {
   "cell_type": "code",
   "execution_count": null,
   "metadata": {},
   "outputs": [],
   "source": [
    "input_seq_test"
   ]
  },
  {
   "cell_type": "code",
   "execution_count": null,
   "metadata": {},
   "outputs": [],
   "source": [
    "pred1 = model_1.predict([input_seq_test,decoder_input_test])"
   ]
  },
  {
   "cell_type": "code",
   "execution_count": null,
   "metadata": {},
   "outputs": [],
   "source": [
    "pred_values1 = scaler.inverse_transform(pred1.reshape(-1,1))\n",
    "output_seq_test1 = scaler.inverse_transform(output_seq_test)"
   ]
  },
  {
   "cell_type": "code",
   "execution_count": null,
   "metadata": {},
   "outputs": [],
   "source": [
    "plt.plot(pred_values1, label = \"pred\")\n",
    "plt.plot(output_seq_test1, label = \"actual\")\n",
    "plt.title(\"1-напр 1-слойный\")\n",
    "plt.ylabel(\"Bid\", fontsize=12)\n",
    "plt.xlabel(\"Time\", fontsize=12)\n",
    "plt.legend()\n",
    "plt.savefig('uni_dir1.png')"
   ]
  },
  {
   "cell_type": "code",
   "execution_count": null,
   "metadata": {},
   "outputs": [],
   "source": [
    "# serialize model to JSON\n",
    "# model_json = model_1.to_json()\n",
    "# with open(\"model_1.json\", \"w\") as json_file:\n",
    "#     json_file.write(model_json)\n",
    "# # serialize weights to HDF5\n",
    "# model_1.save_weights(\"model_1.h5\")\n",
    "# print(\"Saved model to disk\")"
   ]
  },
  {
   "cell_type": "markdown",
   "metadata": {},
   "source": [
    "# 2 Двунаправленный 1-слойный"
   ]
  },
  {
   "cell_type": "code",
   "execution_count": null,
   "metadata": {},
   "outputs": [],
   "source": [
    "model1_bi = create_model(layers=[60],bidirectional=True)"
   ]
  },
  {
   "cell_type": "code",
   "execution_count": null,
   "metadata": {},
   "outputs": [],
   "source": [
    "# from keras.models import model_from_json\n",
    "# # load json and create model\n",
    "# json_file = open('model1_bi.json', 'r')\n",
    "# loaded_model_json = json_file.read()\n",
    "# json_file.close()\n",
    "# model1_bi = model_from_json(loaded_model_json)\n",
    "# # load weights into new model\n",
    "# model1_bi.load_weights(\"model1_bi.h5\")\n",
    "# print(\"Loaded model from disk\")"
   ]
  },
  {
   "cell_type": "code",
   "execution_count": null,
   "metadata": {},
   "outputs": [],
   "source": [
    "total_loss = []\n",
    "total_val_loss = []\n",
    "model1_bi.compile(Adam(), loss = 'mean_squared_error')"
   ]
  },
  {
   "cell_type": "code",
   "execution_count": null,
   "metadata": {},
   "outputs": [],
   "source": [
    "#bi 1 layered model\n",
    "start_time = time.time()\n",
    "run_model(model1_bi,batches=1, epochs=100, batch_size=batch_size)\n",
    "end_time = time.time()"
   ]
  },
  {
   "cell_type": "code",
   "execution_count": null,
   "metadata": {},
   "outputs": [],
   "source": [
    "run_time = (end_time - start_time)/60\n",
    "run_time"
   ]
  },
  {
   "cell_type": "code",
   "execution_count": null,
   "metadata": {},
   "outputs": [],
   "source": [
    "total_loss = [j for i in total_loss for j in i]\n",
    "total_val_loss = [j for i in total_val_loss for j in i]"
   ]
  },
  {
   "cell_type": "code",
   "execution_count": null,
   "metadata": {},
   "outputs": [],
   "source": [
    "plot_loss(total_loss,total_val_loss)"
   ]
  },
  {
   "cell_type": "code",
   "execution_count": null,
   "metadata": {},
   "outputs": [],
   "source": [
    "input_seq_test = x_train[-60:].reshape((1,60,1))\n",
    "output_seq_test = x_test[:20]\n",
    "decoder_input_test = np.zeros((1,output_seq_len,1))"
   ]
  },
  {
   "cell_type": "code",
   "execution_count": null,
   "metadata": {},
   "outputs": [],
   "source": [
    "pred = model1_bi.predict([input_seq_test,decoder_input_test])"
   ]
  },
  {
   "cell_type": "code",
   "execution_count": null,
   "metadata": {},
   "outputs": [],
   "source": [
    "pred_values = scaler.inverse_transform(pred.reshape(-1,1))\n",
    "output_seq_test = scaler.inverse_transform(output_seq_test)\n",
    "input_seq_test = scaler.inverse_transform(input_seq_test.reshape(-1,1))"
   ]
  },
  {
   "cell_type": "code",
   "execution_count": null,
   "metadata": {},
   "outputs": [],
   "source": [
    "plt.plot(pred_values, label = \"pred\")\n",
    "plt.plot(output_seq_test, label = \"actual\")\n",
    "plt.title(\"2-напр 1-слойный\")\n",
    "plt.ylabel(\"Bid\", fontsize=12)\n",
    "plt.xlabel(\"Time\", fontsize=12)\n",
    "plt.legend()\n",
    "plt.savefig('bi_dir1.png')"
   ]
  },
  {
   "cell_type": "code",
   "execution_count": null,
   "metadata": {},
   "outputs": [],
   "source": [
    "# serialize model to JSON\n",
    "# model_json = model_1.to_json()\n",
    "# with open(\"model1_bi.json\", \"w\") as json_file:\n",
    "#     json_file.write(model_json)\n",
    "# # serialize weights to HDF5\n",
    "# model_1.save_weights(\"model1_bi.h5\")\n",
    "# print(\"Saved model to disk\")"
   ]
  },
  {
   "cell_type": "markdown",
   "metadata": {},
   "source": [
    "# 3 Однонаправленный 2-слойный"
   ]
  },
  {
   "cell_type": "code",
   "execution_count": null,
   "metadata": {},
   "outputs": [],
   "source": [
    "model_2 = create_model([60,60],bidirectional=False)"
   ]
  },
  {
   "cell_type": "code",
   "execution_count": null,
   "metadata": {},
   "outputs": [],
   "source": [
    "# from keras.models import model_from_json\n",
    "# # load json and create model\n",
    "# json_file = open('model_2.json', 'r')\n",
    "# loaded_model_json = json_file.read()\n",
    "# json_file.close()\n",
    "# model_2 = model_from_json(loaded_model_json)\n",
    "# # load weights into new model\n",
    "# model_2.load_weights(\"model_2.h5\")\n",
    "# print(\"Loaded model from disk\")"
   ]
  },
  {
   "cell_type": "code",
   "execution_count": null,
   "metadata": {},
   "outputs": [],
   "source": [
    "from keras.models import model_from_json\n",
    "# load json and create model\n",
    "json_file = open('model_2.json', 'r')\n",
    "loaded_model_json = json_file.read()\n",
    "json_file.close()\n",
    "model_2 = model_from_json(loaded_model_json)\n",
    "# load weights into new model\n",
    "model_2.load_weights(\"model_2.h5\")\n",
    "print(\"Loaded model from disk\")"
   ]
  },
  {
   "cell_type": "code",
   "execution_count": null,
   "metadata": {},
   "outputs": [],
   "source": [
    "total_loss = []\n",
    "total_val_loss = []\n",
    "model_2.compile(Adam(), loss = 'mean_squared_error')"
   ]
  },
  {
   "cell_type": "code",
   "execution_count": null,
   "metadata": {},
   "outputs": [],
   "source": [
    "start_time = time.time()\n",
    "run_model(model_2,batches=1, epochs=100, batch_size=batch_size)\n",
    "end_time = time.time()"
   ]
  },
  {
   "cell_type": "code",
   "execution_count": null,
   "metadata": {},
   "outputs": [],
   "source": [
    "run_time = (end_time - start_time)/60\n",
    "run_time"
   ]
  },
  {
   "cell_type": "code",
   "execution_count": null,
   "metadata": {},
   "outputs": [],
   "source": [
    "total_loss = [j for i in total_loss for j in i]\n",
    "total_val_loss = [j for i in total_val_loss for j in i]"
   ]
  },
  {
   "cell_type": "code",
   "execution_count": null,
   "metadata": {},
   "outputs": [],
   "source": [
    "plot_loss(total_loss,total_val_loss)"
   ]
  },
  {
   "cell_type": "code",
   "execution_count": null,
   "metadata": {},
   "outputs": [],
   "source": [
    "input_seq_test = x_train[-60:].reshape((1,60,1))\n",
    "output_seq_test = x_test[:20]\n",
    "decoder_input_test = np.zeros((1,output_seq_len,1))"
   ]
  },
  {
   "cell_type": "code",
   "execution_count": null,
   "metadata": {},
   "outputs": [],
   "source": [
    "pred2 = model_2.predict([input_seq_test,decoder_input_test])"
   ]
  },
  {
   "cell_type": "code",
   "execution_count": null,
   "metadata": {},
   "outputs": [],
   "source": [
    "pred_values2 = scaler.inverse_transform(pred2.reshape(-1,1))\n",
    "output_seq_test2 = scaler.inverse_transform(output_seq_test)"
   ]
  },
  {
   "cell_type": "code",
   "execution_count": null,
   "metadata": {},
   "outputs": [],
   "source": [
    "plt.plot(pred_values2, label = \"pred\")\n",
    "plt.plot(output_seq_test2, label = \"actual\")\n",
    "plt.title(\"1-напр 1-слойн\")\n",
    "plt.ylabel(\"Bid\", fontsize=12)\n",
    "plt.xlabel(\"Time\", fontsize=12)\n",
    "plt.legend()\n",
    "plt.savefig('uni_dir2.png')"
   ]
  },
  {
   "cell_type": "code",
   "execution_count": null,
   "metadata": {},
   "outputs": [],
   "source": [
    "# # serialize model to JSON\n",
    "# model_json = model_2.to_json()\n",
    "# with open(\"model_2.json\", \"w\") as json_file:\n",
    "#     json_file.write(model_json)\n",
    "# # serialize weights to HDF5\n",
    "# model_2.save_weights(\"model_2.h5\")\n",
    "# print(\"Saved model to disk\")"
   ]
  },
  {
   "cell_type": "markdown",
   "metadata": {},
   "source": [
    "# 4 Двунаправленный 2-слойный"
   ]
  },
  {
   "cell_type": "code",
   "execution_count": null,
   "metadata": {},
   "outputs": [],
   "source": [
    "model2_bi = create_model([60,60],bidirectional=True)"
   ]
  },
  {
   "cell_type": "code",
   "execution_count": null,
   "metadata": {},
   "outputs": [],
   "source": [
    "# загрузка джейсона\n",
    "from keras.models import model_from_json\n",
    "\n",
    "# json_file = open('model2_bi.json', 'r')\n",
    "# loaded_model_json = json_file.read()\n",
    "# json_file.close()\n",
    "# model2_bi = model_from_json(loaded_model_json)\n",
    "# # load weights into new model\n",
    "# model2_bi.load_weights(\"model2_bi.h5\")\n",
    "# print(\"Loaded model from disk\")"
   ]
  },
  {
   "cell_type": "code",
   "execution_count": null,
   "metadata": {},
   "outputs": [],
   "source": [
    "total_loss = []\n",
    "total_val_loss = []\n",
    "model2_bi.compile(Adam(), loss = 'mean_squared_error')"
   ]
  },
  {
   "cell_type": "code",
   "execution_count": null,
   "metadata": {},
   "outputs": [],
   "source": [
    "start_time = time.time()\n",
    "run_model(model2_bi,batches=1, epochs=10, batch_size=batch_size)\n",
    "end_time = time.time()"
   ]
  },
  {
   "cell_type": "code",
   "execution_count": null,
   "metadata": {},
   "outputs": [],
   "source": [
    "run_time = (end_time - start_time)/60\n",
    "run_time"
   ]
  },
  {
   "cell_type": "code",
   "execution_count": null,
   "metadata": {},
   "outputs": [],
   "source": [
    "total_loss = [j for i in total_loss for j in i]\n",
    "total_val_loss = [j for i in total_val_loss for j in i]"
   ]
  },
  {
   "cell_type": "code",
   "execution_count": null,
   "metadata": {},
   "outputs": [],
   "source": [
    "plot_loss(total_loss,total_val_loss)\n",
    "plt.savefig('bi_los2.png')"
   ]
  },
  {
   "cell_type": "code",
   "execution_count": null,
   "metadata": {},
   "outputs": [],
   "source": [
    "input_seq_test = x_train[-60:].reshape((1,60,1))\n",
    "output_seq_test = x_test[:20]\n",
    "decoder_input_test = np.zeros((1,output_seq_len,1))"
   ]
  },
  {
   "cell_type": "code",
   "execution_count": null,
   "metadata": {},
   "outputs": [],
   "source": [
    "pred2_bi = model2_bi.predict([input_seq_test,decoder_input_test])"
   ]
  },
  {
   "cell_type": "code",
   "execution_count": null,
   "metadata": {},
   "outputs": [],
   "source": [
    "pred_values2_bi = scaler.inverse_transform(pred2_bi.reshape(-1,1))\n",
    "output_seq_test2_bi = scaler.inverse_transform(output_seq_test)"
   ]
  },
  {
   "cell_type": "code",
   "execution_count": null,
   "metadata": {},
   "outputs": [],
   "source": [
    "pred2_bi = model2_bi.predict([input_seq_test,decoder_input_test])"
   ]
  },
  {
   "cell_type": "code",
   "execution_count": null,
   "metadata": {},
   "outputs": [],
   "source": [
    "plt.plot(pred_values2_bi, label = \"pred\")\n",
    "plt.plot(output_seq_test2_bi, label = \"actual\")\n",
    "plt.title(\"2-напр 2-слойн\")\n",
    "plt.ylabel(\"Bid\", fontsize=12)\n",
    "plt.xlabel(\"Time\", fontsize=12)\n",
    "plt.legend()\n",
    "plt.savefig('bi_dir2.png')"
   ]
  },
  {
   "cell_type": "code",
   "execution_count": null,
   "metadata": {},
   "outputs": [],
   "source": [
    "# serialize model to JSON\n",
    "# model_json = model2_bi.to_json()\n",
    "# with open(\"model2_bi.json\", \"w\") as json_file:\n",
    "#     json_file.write(model_json)\n",
    "# # serialize weights to HDF5\n",
    "# model2_bi.save_weights(\"model2_bi.h5\")\n",
    "# print(\"Saved model to disk\")"
   ]
  },
  {
   "cell_type": "markdown",
   "metadata": {},
   "source": [
    "# Прогнозирование на основе скользящего среднего"
   ]
  },
  {
   "cell_type": "code",
   "execution_count": null,
   "metadata": {},
   "outputs": [],
   "source": [
    "series = data['Bid']\n",
    "series=np.log(series.)"
   ]
  },
  {
   "cell_type": "code",
   "execution_count": null,
   "metadata": {},
   "outputs": [],
   "source": [
    "def moving_average(series, n):\n",
    "    \"\"\"\n",
    "        Вычислить среднее за последние n наблюдений\n",
    "        Calculate average of last n observations\n",
    "    \"\"\"\n",
    "    return np.average(series[-n:])\n",
    "\n",
    "\n",
    "a=scaler.inverse_transform(moving_average(X, 500000).reshape(-1,1))\n",
    "a"
   ]
  },
  {
   "cell_type": "code",
   "execution_count": null,
   "metadata": {},
   "outputs": [],
   "source": [
    "#893.16-"
   ]
  }
 ],
 "metadata": {
  "kernelspec": {
   "display_name": "Python 3",
   "language": "python",
   "name": "python3"
  },
  "language_info": {
   "codemirror_mode": {
    "name": "ipython",
    "version": 3
   },
   "file_extension": ".py",
   "mimetype": "text/x-python",
   "name": "python",
   "nbconvert_exporter": "python",
   "pygments_lexer": "ipython3",
   "version": "3.7.6"
  }
 },
 "nbformat": 4,
 "nbformat_minor": 2
}
