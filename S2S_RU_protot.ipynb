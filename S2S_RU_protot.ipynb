{
 "cells": [
  {
   "cell_type": "markdown",
   "metadata": {},
   "source": [
    "# Прогнозирование временных рядов на основе прототипов Seq-2-Seq моделей с использованием однонаправленных и двунаправленных LSTM с глубоким стеком и реализации в Keras\n",
    "\n",
    "Ссылка на первоисточник «https://weiminwang.blog/2017/09/29/multivariate-time-series-forecast-using-seq2seq-in-tensorflow/» Вэйминь Ванга.\n",
    "\n",
    "Этот ноутбук реализует четыре архитектуры на основе кодировщика-декодера s2q2seq с использованием сетей LSTM. Одно / многоуровневые однонаправленные и двунаправленные LSTM были опробованы и реализованы на наборе данных одномерного временного ряда «аукциннная цена 1000 кликов» с целью выыбора наиболее подхлдящей для практики модели.\n",
    "\n",
    "Основная цель - выбрать наиболее эффективную модель LSTM для дальнейшей реализации в прогнозировании и изучении сложных наборов временных данных в системе аукционных торгов и построении торгового алгоритма."
   ]
  },
  {
   "cell_type": "code",
   "execution_count": 1,
   "metadata": {},
   "outputs": [],
   "source": [
    "import pandas as pd\n",
    "import numpy as np\n",
    "import time\n",
    "from keras.models import model_from_json\n",
    "\n",
    "%matplotlib inline\n",
    "import matplotlib.pyplot as plt\n",
    "import seaborn as sns\n",
    "sns.set_style(\"darkgrid\")\n",
    "\n",
    "import tensorflow as tf\n",
    "from tensorflow.keras.models import Model\n",
    "from tensorflow.keras.layers import Input, LSTM, Dense, LSTMCell, RNN, Bidirectional, concatenate\n",
    "from tensorflow.keras.optimizers import Adam\n",
    "from tensorflow.python.keras.callbacks import TensorBoard\n",
    "\n",
    "from sklearn.preprocessing import MinMaxScaler"
   ]
  },
  {
   "cell_type": "markdown",
   "metadata": {},
   "source": [
    "## Обработка исходных данных\n",
    "Исходный набор данных требует небольшой очистки, которую проделаем с помощью программных фильтров"
   ]
  },
  {
   "cell_type": "code",
   "execution_count": 2,
   "metadata": {},
   "outputs": [
    {
     "name": "stderr",
     "output_type": "stream",
     "text": [
      "C:\\Users\\nnig9\\anaconda3\\lib\\site-packages\\IPython\\core\\interactiveshell.py:3063: DtypeWarning: Columns (12) have mixed types. Specify dtype option on import or set low_memory=False.\n",
      "  interactivity=interactivity, compiler=compiler, result=result)\n"
     ]
    }
   ],
   "source": [
    "data=pd.read_csv('cl.csv', sep=';', error_bad_lines=False)\n",
    "data = data.query('Bid < 5000')\n",
    "data = data.reset_index()\n"
   ]
  },
  {
   "cell_type": "code",
   "execution_count": 3,
   "metadata": {},
   "outputs": [],
   "source": [
    "data['Bid'] = data['Bid'].apply(lambda x: float(x))\n",
    "data['date'] = pd.to_datetime(data['date'])"
   ]
  },
  {
   "cell_type": "code",
   "execution_count": 4,
   "metadata": {},
   "outputs": [
    {
     "data": {
      "text/html": [
       "<div>\n",
       "<style scoped>\n",
       "    .dataframe tbody tr th:only-of-type {\n",
       "        vertical-align: middle;\n",
       "    }\n",
       "\n",
       "    .dataframe tbody tr th {\n",
       "        vertical-align: top;\n",
       "    }\n",
       "\n",
       "    .dataframe thead th {\n",
       "        text-align: right;\n",
       "    }\n",
       "</style>\n",
       "<table border=\"1\" class=\"dataframe\">\n",
       "  <thead>\n",
       "    <tr style=\"text-align: right;\">\n",
       "      <th></th>\n",
       "      <th>index</th>\n",
       "      <th>Click_ID</th>\n",
       "      <th>date</th>\n",
       "      <th>banner_type</th>\n",
       "      <th>banner_width</th>\n",
       "      <th>banner_heigth</th>\n",
       "      <th>IP</th>\n",
       "      <th>Device_ID</th>\n",
       "      <th>Bid</th>\n",
       "      <th>OS</th>\n",
       "      <th>OS_Version</th>\n",
       "      <th>Device_mode</th>\n",
       "      <th>Connection_Type</th>\n",
       "      <th>Unnamed: 12</th>\n",
       "    </tr>\n",
       "  </thead>\n",
       "  <tbody>\n",
       "    <tr>\n",
       "      <th>0</th>\n",
       "      <td>0</td>\n",
       "      <td>35803771</td>\n",
       "      <td>2019-09-23 21:46:51</td>\n",
       "      <td>simple</td>\n",
       "      <td>768</td>\n",
       "      <td>1024</td>\n",
       "      <td>91.233.43.235</td>\n",
       "      <td>26D00212-C469-4A3C-824D-8FAD9CA1554C</td>\n",
       "      <td>353.0</td>\n",
       "      <td>iOS</td>\n",
       "      <td>ios 9.3</td>\n",
       "      <td>Apple iPad 1</td>\n",
       "      <td>WiFi</td>\n",
       "      <td>NaN</td>\n",
       "    </tr>\n",
       "    <tr>\n",
       "      <th>1</th>\n",
       "      <td>1</td>\n",
       "      <td>35803772</td>\n",
       "      <td>2019-09-23 21:47:17</td>\n",
       "      <td>simple</td>\n",
       "      <td>320</td>\n",
       "      <td>480</td>\n",
       "      <td>5.18.232.72</td>\n",
       "      <td>e51b5d0c-e147-4c7c-a7d9-f54fdbe84918</td>\n",
       "      <td>712.0</td>\n",
       "      <td>Android</td>\n",
       "      <td>android 8</td>\n",
       "      <td>huawei honor 9 lite</td>\n",
       "      <td>None</td>\n",
       "      <td>NaN</td>\n",
       "    </tr>\n",
       "    <tr>\n",
       "      <th>2</th>\n",
       "      <td>2</td>\n",
       "      <td>35803773</td>\n",
       "      <td>2019-09-23 21:47:40</td>\n",
       "      <td>simple</td>\n",
       "      <td>320</td>\n",
       "      <td>480</td>\n",
       "      <td>62.33.118.27</td>\n",
       "      <td>5b47abce-0e7c-46c4-97cf-06e8a4746ef2</td>\n",
       "      <td>353.0</td>\n",
       "      <td>Android</td>\n",
       "      <td>android 5.0.2</td>\n",
       "      <td>lenovo a6010</td>\n",
       "      <td>WiFi</td>\n",
       "      <td>NaN</td>\n",
       "    </tr>\n",
       "    <tr>\n",
       "      <th>3</th>\n",
       "      <td>3</td>\n",
       "      <td>35803774</td>\n",
       "      <td>2019-09-23 21:49:14</td>\n",
       "      <td>simple</td>\n",
       "      <td>320</td>\n",
       "      <td>480</td>\n",
       "      <td>46.8.244.223</td>\n",
       "      <td>19b84b3c-ddcc-4010-815b-1951f77515bf</td>\n",
       "      <td>353.0</td>\n",
       "      <td>Android</td>\n",
       "      <td>android 4.4</td>\n",
       "      <td>None</td>\n",
       "      <td>WiFi</td>\n",
       "      <td>NaN</td>\n",
       "    </tr>\n",
       "    <tr>\n",
       "      <th>4</th>\n",
       "      <td>4</td>\n",
       "      <td>35803775</td>\n",
       "      <td>2019-09-23 21:49:30</td>\n",
       "      <td>simple</td>\n",
       "      <td>320</td>\n",
       "      <td>480</td>\n",
       "      <td>85.93.58.149</td>\n",
       "      <td>b61f2a4d-e008-4526-8654-510c5e4b774f</td>\n",
       "      <td>353.0</td>\n",
       "      <td>Android</td>\n",
       "      <td>android 6.0</td>\n",
       "      <td>micromax q354</td>\n",
       "      <td>WiFi</td>\n",
       "      <td>NaN</td>\n",
       "    </tr>\n",
       "    <tr>\n",
       "      <th>...</th>\n",
       "      <td>...</td>\n",
       "      <td>...</td>\n",
       "      <td>...</td>\n",
       "      <td>...</td>\n",
       "      <td>...</td>\n",
       "      <td>...</td>\n",
       "      <td>...</td>\n",
       "      <td>...</td>\n",
       "      <td>...</td>\n",
       "      <td>...</td>\n",
       "      <td>...</td>\n",
       "      <td>...</td>\n",
       "      <td>...</td>\n",
       "      <td>...</td>\n",
       "    </tr>\n",
       "    <tr>\n",
       "      <th>1387520</th>\n",
       "      <td>1389995</td>\n",
       "      <td>37192376</td>\n",
       "      <td>2020-09-27 04:30:50</td>\n",
       "      <td>simple</td>\n",
       "      <td>320</td>\n",
       "      <td>480</td>\n",
       "      <td>46.249.9.74</td>\n",
       "      <td>b063d92c-85e8-4f50-8555-c7cc5f7d920d</td>\n",
       "      <td>210.0</td>\n",
       "      <td>Android</td>\n",
       "      <td>android 8</td>\n",
       "      <td>huawei dra-lx2</td>\n",
       "      <td>WiFi</td>\n",
       "      <td>NaN</td>\n",
       "    </tr>\n",
       "    <tr>\n",
       "      <th>1387521</th>\n",
       "      <td>1389996</td>\n",
       "      <td>37192377</td>\n",
       "      <td>2020-09-27 04:31:37</td>\n",
       "      <td>simple</td>\n",
       "      <td>320</td>\n",
       "      <td>480</td>\n",
       "      <td>178.205.246.6</td>\n",
       "      <td>5c446c19-27f5-4119-bded-96ccb45bcafb</td>\n",
       "      <td>210.0</td>\n",
       "      <td>Android</td>\n",
       "      <td>None</td>\n",
       "      <td>None</td>\n",
       "      <td>WiFi</td>\n",
       "      <td>NaN</td>\n",
       "    </tr>\n",
       "    <tr>\n",
       "      <th>1387522</th>\n",
       "      <td>1389997</td>\n",
       "      <td>37192378</td>\n",
       "      <td>2020-09-27 04:32:14</td>\n",
       "      <td>simple</td>\n",
       "      <td>320</td>\n",
       "      <td>480</td>\n",
       "      <td>94.140.143.155</td>\n",
       "      <td>076a935a-4263-4cec-a5da-4dd2091c9fc6</td>\n",
       "      <td>171.0</td>\n",
       "      <td>Android</td>\n",
       "      <td>None</td>\n",
       "      <td>samsung sm-a207f</td>\n",
       "      <td>GPRS/EDGE/3G/LTE</td>\n",
       "      <td>NaN</td>\n",
       "    </tr>\n",
       "    <tr>\n",
       "      <th>1387523</th>\n",
       "      <td>1389998</td>\n",
       "      <td>37192379</td>\n",
       "      <td>2020-09-27 04:33:02</td>\n",
       "      <td>simple</td>\n",
       "      <td>320</td>\n",
       "      <td>480</td>\n",
       "      <td>95.153.133.221</td>\n",
       "      <td>6f2d8c62-4d62-4136-bae3-5a8121be4a5d</td>\n",
       "      <td>171.0</td>\n",
       "      <td>Android</td>\n",
       "      <td>android 8</td>\n",
       "      <td>xiaomi redmi 6a</td>\n",
       "      <td>GPRS/EDGE/3G/LTE</td>\n",
       "      <td>NaN</td>\n",
       "    </tr>\n",
       "    <tr>\n",
       "      <th>1387524</th>\n",
       "      <td>1389999</td>\n",
       "      <td>37192380</td>\n",
       "      <td>2020-09-27 04:33:24</td>\n",
       "      <td>simple</td>\n",
       "      <td>320</td>\n",
       "      <td>480</td>\n",
       "      <td>188.162.15.95</td>\n",
       "      <td>3c606d27-ff3b-4619-a1fb-0dee0a4a059b</td>\n",
       "      <td>210.0</td>\n",
       "      <td>Android</td>\n",
       "      <td>android 6</td>\n",
       "      <td>zte blade a510</td>\n",
       "      <td>WiFi</td>\n",
       "      <td>NaN</td>\n",
       "    </tr>\n",
       "  </tbody>\n",
       "</table>\n",
       "<p>1387525 rows × 14 columns</p>\n",
       "</div>"
      ],
      "text/plain": [
       "           index  Click_ID                date banner_type  banner_width  \\\n",
       "0              0  35803771 2019-09-23 21:46:51      simple           768   \n",
       "1              1  35803772 2019-09-23 21:47:17      simple           320   \n",
       "2              2  35803773 2019-09-23 21:47:40      simple           320   \n",
       "3              3  35803774 2019-09-23 21:49:14      simple           320   \n",
       "4              4  35803775 2019-09-23 21:49:30      simple           320   \n",
       "...          ...       ...                 ...         ...           ...   \n",
       "1387520  1389995  37192376 2020-09-27 04:30:50      simple           320   \n",
       "1387521  1389996  37192377 2020-09-27 04:31:37      simple           320   \n",
       "1387522  1389997  37192378 2020-09-27 04:32:14      simple           320   \n",
       "1387523  1389998  37192379 2020-09-27 04:33:02      simple           320   \n",
       "1387524  1389999  37192380 2020-09-27 04:33:24      simple           320   \n",
       "\n",
       "         banner_heigth              IP                             Device_ID  \\\n",
       "0                 1024   91.233.43.235  26D00212-C469-4A3C-824D-8FAD9CA1554C   \n",
       "1                  480     5.18.232.72  e51b5d0c-e147-4c7c-a7d9-f54fdbe84918   \n",
       "2                  480    62.33.118.27  5b47abce-0e7c-46c4-97cf-06e8a4746ef2   \n",
       "3                  480    46.8.244.223  19b84b3c-ddcc-4010-815b-1951f77515bf   \n",
       "4                  480    85.93.58.149  b61f2a4d-e008-4526-8654-510c5e4b774f   \n",
       "...                ...             ...                                   ...   \n",
       "1387520            480     46.249.9.74  b063d92c-85e8-4f50-8555-c7cc5f7d920d   \n",
       "1387521            480   178.205.246.6  5c446c19-27f5-4119-bded-96ccb45bcafb   \n",
       "1387522            480  94.140.143.155  076a935a-4263-4cec-a5da-4dd2091c9fc6   \n",
       "1387523            480  95.153.133.221  6f2d8c62-4d62-4136-bae3-5a8121be4a5d   \n",
       "1387524            480   188.162.15.95  3c606d27-ff3b-4619-a1fb-0dee0a4a059b   \n",
       "\n",
       "           Bid       OS     OS_Version          Device_mode   Connection_Type  \\\n",
       "0        353.0      iOS        ios 9.3         Apple iPad 1              WiFi   \n",
       "1        712.0  Android      android 8  huawei honor 9 lite              None   \n",
       "2        353.0  Android  android 5.0.2         lenovo a6010              WiFi   \n",
       "3        353.0  Android    android 4.4                 None              WiFi   \n",
       "4        353.0  Android    android 6.0        micromax q354              WiFi   \n",
       "...        ...      ...            ...                  ...               ...   \n",
       "1387520  210.0  Android      android 8       huawei dra-lx2              WiFi   \n",
       "1387521  210.0  Android           None                 None              WiFi   \n",
       "1387522  171.0  Android           None     samsung sm-a207f  GPRS/EDGE/3G/LTE   \n",
       "1387523  171.0  Android      android 8      xiaomi redmi 6a  GPRS/EDGE/3G/LTE   \n",
       "1387524  210.0  Android      android 6       zte blade a510              WiFi   \n",
       "\n",
       "        Unnamed: 12  \n",
       "0               NaN  \n",
       "1               NaN  \n",
       "2               NaN  \n",
       "3               NaN  \n",
       "4               NaN  \n",
       "...             ...  \n",
       "1387520         NaN  \n",
       "1387521         NaN  \n",
       "1387522         NaN  \n",
       "1387523         NaN  \n",
       "1387524         NaN  \n",
       "\n",
       "[1387525 rows x 14 columns]"
      ]
     },
     "execution_count": 4,
     "metadata": {},
     "output_type": "execute_result"
    }
   ],
   "source": [
    "data[:-10000]"
   ]
  },
  {
   "cell_type": "code",
   "execution_count": 5,
   "metadata": {},
   "outputs": [],
   "source": [
    "###### series = data['Bid'][:].reset_index()\n",
    "\n",
    "series = data['Bid'][-3000:].reset_index()\n",
    "series = series.drop('index',axis=1)"
   ]
  },
  {
   "cell_type": "code",
   "execution_count": 6,
   "metadata": {},
   "outputs": [],
   "source": [
    "#series"
   ]
  },
  {
   "cell_type": "code",
   "execution_count": 7,
   "metadata": {},
   "outputs": [],
   "source": [
    "seq = series.copy()\n",
    "scaler = MinMaxScaler(feature_range=(-1,1))\n",
    "X =scaler.fit_transform(seq.values.reshape(-1,1))\n",
    "#seq = np.log(seq.values)"
   ]
  },
  {
   "cell_type": "code",
   "execution_count": 8,
   "metadata": {},
   "outputs": [
    {
     "data": {
      "image/png": "[encoded data removed]",
      "text/plain": [
       "<Figure size 1080x504 with 1 Axes>"
      ]
     },
     "metadata": {},
     "output_type": "display_data"
    }
   ],
   "source": [
    "series = X\n",
    "seq = series.copy()\n",
    "seqq = series[-1000:].copy()\n",
    "plt.figure(figsize=(15,7))\n",
    "plt.title(\"Sequence\", fontsize = 18)\n",
    "plt.xlabel(\"Index\", fontsize = 18)\n",
    "plt.ylabel(\"Value\", fontsize = 18)\n",
    "plt.plot(seq[:])\n",
    "plt.show()"
   ]
  },
  {
   "cell_type": "markdown",
   "metadata": {},
   "source": [
    "Рис. График исходного временного ряда"
   ]
  },
  {
   "cell_type": "code",
   "execution_count": 9,
   "metadata": {},
   "outputs": [],
   "source": [
    "#scaler = MinMaxScaler(feature_range=(-1,1))\n",
    "#X =scaler.fit_transform(seq.values.reshape(-1,1))"
   ]
  },
  {
   "cell_type": "code",
   "execution_count": 10,
   "metadata": {},
   "outputs": [],
   "source": [
    "#X[:100]"
   ]
  },
  {
   "cell_type": "code",
   "execution_count": 11,
   "metadata": {},
   "outputs": [],
   "source": [
    "#data['Bid']\n",
    "# plt.plot(X[:100])\n",
    "# plt.plot(np.log(data['Bid'][:200]))"
   ]
  },
  {
   "cell_type": "code",
   "execution_count": 12,
   "metadata": {},
   "outputs": [],
   "source": [
    "#1397525\n",
    "x_train = X[:-400]\n",
    "x_test = X[-400:]"
   ]
  },
  {
   "cell_type": "code",
   "execution_count": 13,
   "metadata": {},
   "outputs": [
    {
     "data": {
      "text/plain": [
       "array([[-0.42857143],\n",
       "       [-0.9047619 ],\n",
       "       [-0.9047619 ],\n",
       "       ...,\n",
       "       [-1.        ],\n",
       "       [-1.        ],\n",
       "       [-1.        ]])"
      ]
     },
     "execution_count": 13,
     "metadata": {},
     "output_type": "execute_result"
    }
   ],
   "source": [
    "x_train"
   ]
  },
  {
   "cell_type": "markdown",
   "metadata": {},
   "source": [
    "**Обратите внимание**, что в приведенных выше ячейках мы не делали никаких изменений в серии, чтобы преобразовать ее в модель обучения с учителем. Вскоре вы увидите причину, по которой мы этого не сделали.\n",
    "\n",
    "В ячейке ниже определяется длина входной и выходной последовательности. Мы также определяем номера входных характеристик (столбцов) мы даем модели, а номер ожидаемых выходных характеристик (столбцов). В случае многомерных данных нет.номера входных функций будет> 1 в зависимости от того, сколько вы включаете в модель."
   ]
  },
  {
   "cell_type": "code",
   "execution_count": 14,
   "metadata": {},
   "outputs": [
    {
     "data": {
      "text/plain": [
       "10"
      ]
     },
     "execution_count": 14,
     "metadata": {},
     "output_type": "execute_result"
    }
   ],
   "source": [
    "input_seq_len = 60\n",
    "output_seq_len = 20\n",
    "n_in_features = 1\n",
    "n_out_features = 1\n",
    "batch_size = 10\n",
    "batch_size"
   ]
  },
  {
   "cell_type": "markdown",
   "metadata": {},
   "source": [
    "### Помощник для создания тренировочных пакетов.\n",
    "Всего \"input_seq_len + Output_seq_len\" нет. точек будет формировать единую обучающую выборку, где наши входы (X) (входы кодировщика) будут «input_seq», а наши цели (Y) (цели декодера) будут «output_seq». По этой причине мы не сместили последовательность на один шаг при генерации разбиений на тренировка-тест. <br/>\n",
    "Здесь мы выбираем случайные индексы и создаем такие выборки, чтобы сформировать пакет размером = batch_size."
   ]
  },
  {
   "cell_type": "code",
   "execution_count": 15,
   "metadata": {},
   "outputs": [],
   "source": [
    "def generate_train_sequences(x):\n",
    "    \n",
    "    total_start_points = len(x) - input_seq_len - output_seq_len\n",
    "    start_x_idx = np.random.choice(range(total_start_points), total_start_points, replace = False)\n",
    "    \n",
    "    input_batch_idxs = [(range(i, i+input_seq_len)) for i in start_x_idx]\n",
    "    input_seq = np.take(x, input_batch_idxs, axis = 0)\n",
    "    \n",
    "    output_batch_idxs = [(range(i+input_seq_len, i+input_seq_len+output_seq_len)) for i in start_x_idx]\n",
    "    output_seq = np.take(x, output_batch_idxs, axis = 0)\n",
    "    \n",
    "    input_seq =(input_seq.reshape(input_seq.shape[0],input_seq.shape[1],n_in_features))\n",
    "    output_seq=(output_seq.reshape(output_seq.shape[0],output_seq.shape[1],n_out_features))\n",
    "    \n",
    "    return input_seq, output_seq"
   ]
  },
  {
   "cell_type": "code",
   "execution_count": 16,
   "metadata": {},
   "outputs": [],
   "source": [
    "#generate_train_sequences(X)"
   ]
  },
  {
   "cell_type": "markdown",
   "metadata": {},
   "source": [
    "## Построить архитектуру модели"
   ]
  },
  {
   "cell_type": "code",
   "execution_count": 17,
   "metadata": {},
   "outputs": [],
   "source": [
    "def create_model(layers, bidirectional = False):\n",
    "    \n",
    "    n_layers = len(layers)\n",
    "    \n",
    "    ## Encoder\n",
    "    encoder_inputs = Input(shape = (None, n_in_features))\n",
    "    lstm_cells = [LSTMCell(hidden_dim) for hidden_dim in layers]\n",
    "    \n",
    "    if bidirectional:\n",
    "        \n",
    "        encoder = Bidirectional(RNN(lstm_cells, return_state=True))\n",
    "        encoder_outputs_and_states = encoder(encoder_inputs)\n",
    "        bi_encoder_states = encoder_outputs_and_states[1:]\n",
    "        encoder_states = []\n",
    "        \n",
    "        for i in range(int(len(bi_encoder_states) / 2)):\n",
    "            \n",
    "            temp = []\n",
    "            for j in range(2):\n",
    "                \n",
    "                temp.append(concatenate([bi_encoder_states[i][j], bi_encoder_states[n_layers + i][j]], axis = -1))\n",
    "                \n",
    "            encoder_states.append(temp)\n",
    "    else:  \n",
    "        \n",
    "        encoder = RNN(lstm_cells, return_state = True)\n",
    "        encoder_outputs_and_states = encoder(encoder_inputs)\n",
    "        encoder_states = encoder_outputs_and_states[1:]\n",
    "    \n",
    "    ## Decoder\n",
    "    decoder_inputs = Input(shape = (None, n_out_features))\n",
    "    \n",
    "    if bidirectional:\n",
    "        \n",
    "        decoder_cells = [LSTMCell(hidden_dim*2) for hidden_dim in layers]\n",
    "    else:\n",
    "        \n",
    "        decoder_cells = [LSTMCell(hidden_dim) for hidden_dim in layers]\n",
    "        \n",
    "    decoder_lstm = RNN(decoder_cells, return_sequences = True, return_state=True)\n",
    "    decoder_outputs_and_states = decoder_lstm(decoder_inputs, initial_state = encoder_states)\n",
    "    decoder_outputs = decoder_outputs_and_states[0]\n",
    "    decoder_dense = Dense(n_out_features) \n",
    "    decoder_outputs = decoder_dense(decoder_outputs)\n",
    "    \n",
    "    model = Model([encoder_inputs,decoder_inputs], decoder_outputs)\n",
    "    return model"
   ]
  },
  {
   "cell_type": "markdown",
   "metadata": {},
   "source": [
    "**Обратите внимание**, что если выбрана двунаправленность, тогда длина ячеек декодера будет вдвое больше, чем у кодера, поскольку мы объединяем прямое и обратное состояния кодера.\n",
    "\n",
    "## Запускаем model.fit"
   ]
  },
  {
   "cell_type": "code",
   "execution_count": 18,
   "metadata": {},
   "outputs": [],
   "source": [
    "callbacks = [TensorBoard(log_dir='tb_logs_s2s', histogram_freq=1, write_images=True)]"
   ]
  },
  {
   "cell_type": "code",
   "execution_count": 19,
   "metadata": {},
   "outputs": [],
   "source": [
    "def run_model(model,batches,epochs,batch_size):\n",
    "    global history\n",
    "    for _ in range(batches):\n",
    "\n",
    "        input_seq, output_seq = generate_train_sequences(x_train)\n",
    "\n",
    "        encoder_input_data = input_seq\n",
    "        decoder_target_data = output_seq\n",
    "        decoder_input_data = np.zeros(decoder_target_data.shape)\n",
    "\n",
    "        history = model.fit([encoder_input_data, decoder_input_data], decoder_target_data,\n",
    "                             batch_size=batch_size,\n",
    "                             epochs=epochs,\n",
    "                             validation_split=0.1, \n",
    "                             shuffle=False,\n",
    "                             callbacks=callbacks)\n",
    "                           \n",
    "        total_loss.append(history.history['loss'])\n",
    "        total_val_loss.append(history.history['val_loss'])"
   ]
  },
  {
   "cell_type": "code",
   "execution_count": 20,
   "metadata": {},
   "outputs": [],
   "source": [
    "def plot_loss(train_loss,val_loss):\n",
    "    plt.figure(figsize=(12,7))\n",
    "    plt.plot(train_loss)\n",
    "    plt.plot(val_loss)\n",
    "\n",
    "    plt.xlabel('Epoch')\n",
    "    plt.ylabel('Mean Sqquared Error Loss')\n",
    "    plt.title('Loss Over Time')\n",
    "    plt.legend(['Train','Valid'])\n",
    "    plt.show()"
   ]
  },
  {
   "cell_type": "markdown",
   "metadata": {},
   "source": [
    "# 1. Однонаправленная 1-слойная модель"
   ]
  },
  {
   "cell_type": "code",
   "execution_count": 21,
   "metadata": {},
   "outputs": [],
   "source": [
    "model_1 = create_model(layers=[100],bidirectional=False)"
   ]
  },
  {
   "cell_type": "code",
   "execution_count": 22,
   "metadata": {},
   "outputs": [],
   "source": [
    "# from keras.models import model_from_json\n",
    "# # load json and create model\n",
    "# json_file = open('model_1.json', 'r')\n",
    "# loaded_model_json = json_file.read()\n",
    "# json_file.close()\n",
    "# model_1 = model_from_json(loaded_model_json)\n",
    "# # load weights into new model\n",
    "# model_1.load_weights(\"model_1.h5\")\n",
    "# print(\"Loaded model from disk\")"
   ]
  },
  {
   "cell_type": "markdown",
   "metadata": {},
   "source": [
    "**Обратите внимание**, что аргумент Layers должен быть списком latent_dims в каждом слое. Пример для 2 слоев по 40 димов в каждом ==> [40,40]."
   ]
  },
  {
   "cell_type": "code",
   "execution_count": 23,
   "metadata": {},
   "outputs": [],
   "source": [
    "total_loss = []\n",
    "total_val_loss = []\n",
    "model_1.compile(Adam(), loss = 'mean_squared_error')"
   ]
  },
  {
   "cell_type": "code",
   "execution_count": 24,
   "metadata": {},
   "outputs": [
    {
     "name": "stdout",
     "output_type": "stream",
     "text": [
      "Epoch 1/100\n",
      "  1/227 [..............................] - ETA: 0s - loss: 0.4807WARNING:tensorflow:From C:\\Users\\nnig9\\anaconda3\\lib\\site-packages\\tensorflow\\python\\ops\\summary_ops_v2.py:1277: stop (from tensorflow.python.eager.profiler) is deprecated and will be removed after 2020-07-01.\n",
      "Instructions for updating:\n",
      "use `tf.profiler.experimental.stop` instead.\n",
      "  2/227 [..............................] - ETA: 21s - loss: 0.4735WARNING:tensorflow:Callbacks method `on_train_batch_end` is slow compared to the batch time (batch time: 0.0240s vs `on_train_batch_end` time: 0.1610s). Check your callbacks.\n",
      "227/227 [==============================] - 4s 18ms/step - loss: 0.1686 - val_loss: 0.1426\n",
      "Epoch 2/100\n",
      "227/227 [==============================] - 4s 17ms/step - loss: 0.1584 - val_loss: 0.1420\n",
      "Epoch 3/100\n",
      "227/227 [==============================] - 4s 17ms/step - loss: 0.1577 - val_loss: 0.1413\n",
      "Epoch 4/100\n",
      "227/227 [==============================] - 4s 16ms/step - loss: 0.1569 - val_loss: 0.1395\n",
      "Epoch 5/100\n",
      "227/227 [==============================] - 4s 16ms/step - loss: 0.1531 - val_loss: 0.1300\n",
      "Epoch 6/100\n",
      "227/227 [==============================] - 4s 16ms/step - loss: 0.1521 - val_loss: 0.1306\n",
      "Epoch 7/100\n",
      "227/227 [==============================] - 4s 16ms/step - loss: 0.1506 - val_loss: 0.1300\n",
      "Epoch 8/100\n",
      "227/227 [==============================] - 4s 17ms/step - loss: 0.1499 - val_loss: 0.1285\n",
      "Epoch 9/100\n",
      "227/227 [==============================] - 4s 17ms/step - loss: 0.1490 - val_loss: 0.1282\n",
      "Epoch 10/100\n",
      "227/227 [==============================] - 4s 17ms/step - loss: 0.1499 - val_loss: 0.1285\n",
      "Epoch 11/100\n",
      "227/227 [==============================] - 4s 17ms/step - loss: 0.1467 - val_loss: 0.1269\n",
      "Epoch 12/100\n",
      "227/227 [==============================] - 4s 17ms/step - loss: 0.1438 - val_loss: 0.1274\n",
      "Epoch 13/100\n",
      "227/227 [==============================] - 4s 17ms/step - loss: 0.1430 - val_loss: 0.1262\n",
      "Epoch 14/100\n",
      "227/227 [==============================] - 4s 17ms/step - loss: 0.1431 - val_loss: 0.1250\n",
      "Epoch 15/100\n",
      "227/227 [==============================] - 4s 17ms/step - loss: 0.1440 - val_loss: 0.1269\n",
      "Epoch 16/100\n",
      "227/227 [==============================] - 4s 17ms/step - loss: 0.1423 - val_loss: 0.1256\n",
      "Epoch 17/100\n",
      "227/227 [==============================] - 4s 17ms/step - loss: 0.1438 - val_loss: 0.1253\n",
      "Epoch 18/100\n",
      "227/227 [==============================] - 4s 17ms/step - loss: 0.1410 - val_loss: 0.1253\n",
      "Epoch 19/100\n",
      "227/227 [==============================] - 4s 17ms/step - loss: 0.1407 - val_loss: 0.1256\n",
      "Epoch 20/100\n",
      "227/227 [==============================] - 4s 17ms/step - loss: 0.1394 - val_loss: 0.1250\n",
      "Epoch 21/100\n",
      "227/227 [==============================] - 4s 17ms/step - loss: 0.1384 - val_loss: 0.1256\n",
      "Epoch 22/100\n",
      "227/227 [==============================] - 4s 17ms/step - loss: 0.1378 - val_loss: 0.1253\n",
      "Epoch 23/100\n",
      "227/227 [==============================] - 4s 17ms/step - loss: 0.1372 - val_loss: 0.1251\n",
      "Epoch 24/100\n",
      "227/227 [==============================] - 4s 17ms/step - loss: 0.1352 - val_loss: 0.1294\n",
      "Epoch 25/100\n",
      "227/227 [==============================] - 4s 17ms/step - loss: 0.1410 - val_loss: 0.1260\n",
      "Epoch 26/100\n",
      "227/227 [==============================] - 4s 17ms/step - loss: 0.1416 - val_loss: 0.1275\n",
      "Epoch 27/100\n",
      "227/227 [==============================] - 4s 17ms/step - loss: 0.1373 - val_loss: 0.1254\n",
      "Epoch 28/100\n",
      "227/227 [==============================] - 4s 17ms/step - loss: 0.1353 - val_loss: 0.1295\n",
      "Epoch 29/100\n",
      "227/227 [==============================] - 4s 17ms/step - loss: 0.1335 - val_loss: 0.1249\n",
      "Epoch 30/100\n",
      "227/227 [==============================] - 4s 17ms/step - loss: 0.1321 - val_loss: 0.1248\n",
      "Epoch 31/100\n",
      "227/227 [==============================] - 4s 17ms/step - loss: 0.1374 - val_loss: 0.1258\n",
      "Epoch 32/100\n",
      "227/227 [==============================] - 4s 17ms/step - loss: 0.1327 - val_loss: 0.1238\n",
      "Epoch 33/100\n",
      "227/227 [==============================] - 4s 17ms/step - loss: 0.1290 - val_loss: 0.1228\n",
      "Epoch 34/100\n",
      "227/227 [==============================] - 4s 17ms/step - loss: 0.1311 - val_loss: 0.1228\n",
      "Epoch 35/100\n",
      "227/227 [==============================] - 4s 17ms/step - loss: 0.1297 - val_loss: 0.1225\n",
      "Epoch 36/100\n",
      "227/227 [==============================] - 4s 17ms/step - loss: 0.1275 - val_loss: 0.1237\n",
      "Epoch 37/100\n",
      "227/227 [==============================] - 4s 17ms/step - loss: 0.1273 - val_loss: 0.1194\n",
      "Epoch 38/100\n",
      "227/227 [==============================] - 4s 17ms/step - loss: 0.1242 - val_loss: 0.1192\n",
      "Epoch 39/100\n",
      "227/227 [==============================] - 4s 17ms/step - loss: 0.1223 - val_loss: 0.1241\n",
      "Epoch 40/100\n",
      "227/227 [==============================] - 4s 17ms/step - loss: 0.1268 - val_loss: 0.1288\n",
      "Epoch 41/100\n",
      "227/227 [==============================] - 4s 17ms/step - loss: 0.1264 - val_loss: 0.1265\n",
      "Epoch 42/100\n",
      "227/227 [==============================] - 4s 17ms/step - loss: 0.1271 - val_loss: 0.1250\n",
      "Epoch 43/100\n",
      "227/227 [==============================] - 4s 17ms/step - loss: 0.1365 - val_loss: 0.1266\n",
      "Epoch 44/100\n",
      "227/227 [==============================] - 4s 17ms/step - loss: 0.1382 - val_loss: 0.1235\n",
      "Epoch 45/100\n",
      "227/227 [==============================] - 4s 17ms/step - loss: 0.1305 - val_loss: 0.1231\n",
      "Epoch 46/100\n",
      "227/227 [==============================] - 4s 17ms/step - loss: 0.1264 - val_loss: 0.1203\n",
      "Epoch 47/100\n",
      "227/227 [==============================] - 4s 17ms/step - loss: 0.1220 - val_loss: 0.1189\n",
      "Epoch 48/100\n",
      "227/227 [==============================] - 4s 17ms/step - loss: 0.1298 - val_loss: 0.1177\n",
      "Epoch 49/100\n",
      "227/227 [==============================] - 4s 17ms/step - loss: 0.1207 - val_loss: 0.1190\n",
      "Epoch 50/100\n",
      "227/227 [==============================] - 4s 17ms/step - loss: 0.1171 - val_loss: 0.1164\n",
      "Epoch 51/100\n",
      "227/227 [==============================] - 4s 17ms/step - loss: 0.1161 - val_loss: 0.1168\n",
      "Epoch 52/100\n",
      "227/227 [==============================] - 4s 17ms/step - loss: 0.1183 - val_loss: 0.1176\n",
      "Epoch 53/100\n",
      "227/227 [==============================] - 4s 17ms/step - loss: 0.1127 - val_loss: 0.1211\n",
      "Epoch 54/100\n",
      "227/227 [==============================] - 4s 17ms/step - loss: 0.1116 - val_loss: 0.1118\n",
      "Epoch 55/100\n",
      "227/227 [==============================] - 4s 17ms/step - loss: 0.1098 - val_loss: 0.1117\n",
      "Epoch 56/100\n",
      "227/227 [==============================] - 4s 17ms/step - loss: 0.1107 - val_loss: 0.1129\n",
      "Epoch 57/100\n",
      "227/227 [==============================] - 4s 17ms/step - loss: 0.1078 - val_loss: 0.1239\n",
      "Epoch 58/100\n",
      "227/227 [==============================] - 4s 17ms/step - loss: 0.1120 - val_loss: 0.1088\n",
      "Epoch 59/100\n",
      "227/227 [==============================] - 4s 17ms/step - loss: 0.1152 - val_loss: 0.1280\n",
      "Epoch 60/100\n",
      "227/227 [==============================] - 4s 17ms/step - loss: 0.1196 - val_loss: 0.1156\n",
      "Epoch 61/100\n",
      "227/227 [==============================] - 4s 17ms/step - loss: 0.1107 - val_loss: 0.1099\n",
      "Epoch 62/100\n",
      "227/227 [==============================] - 4s 17ms/step - loss: 0.1068 - val_loss: 0.1082\n",
      "Epoch 63/100\n",
      "227/227 [==============================] - 4s 17ms/step - loss: 0.1050 - val_loss: 0.1147\n",
      "Epoch 64/100\n",
      "227/227 [==============================] - 4s 17ms/step - loss: 0.1063 - val_loss: 0.1063\n",
      "Epoch 65/100\n",
      "227/227 [==============================] - 4s 17ms/step - loss: 0.1041 - val_loss: 0.1116\n",
      "Epoch 66/100\n",
      "227/227 [==============================] - 4s 17ms/step - loss: 0.1032 - val_loss: 0.1074\n",
      "Epoch 67/100\n",
      "227/227 [==============================] - 4s 17ms/step - loss: 0.1021 - val_loss: 0.1083\n",
      "Epoch 68/100\n",
      "227/227 [==============================] - 4s 17ms/step - loss: 0.1019 - val_loss: 0.1102\n",
      "Epoch 69/100\n",
      "227/227 [==============================] - 4s 17ms/step - loss: 0.1030 - val_loss: 0.1093\n",
      "Epoch 70/100\n",
      "227/227 [==============================] - 4s 17ms/step - loss: 0.1012 - val_loss: 0.1058\n",
      "Epoch 71/100\n",
      "227/227 [==============================] - 4s 17ms/step - loss: 0.1021 - val_loss: 0.1124\n",
      "Epoch 72/100\n",
      "227/227 [==============================] - 4s 17ms/step - loss: 0.1003 - val_loss: 0.1059\n",
      "Epoch 73/100\n",
      "227/227 [==============================] - 4s 17ms/step - loss: 0.1116 - val_loss: 0.1087\n",
      "Epoch 74/100\n",
      "227/227 [==============================] - 4s 17ms/step - loss: 0.1009 - val_loss: 0.1046\n"
     ]
    },
    {
     "name": "stdout",
     "output_type": "stream",
     "text": [
      "Epoch 75/100\n",
      "227/227 [==============================] - 4s 17ms/step - loss: 0.0990 - val_loss: 0.1097\n",
      "Epoch 76/100\n",
      "227/227 [==============================] - 4s 17ms/step - loss: 0.1044 - val_loss: 0.1061\n",
      "Epoch 77/100\n",
      "227/227 [==============================] - 4s 18ms/step - loss: 0.0972 - val_loss: 0.1046\n",
      "Epoch 78/100\n",
      "227/227 [==============================] - 4s 17ms/step - loss: 0.1010 - val_loss: 0.1089\n",
      "Epoch 79/100\n",
      "227/227 [==============================] - 4s 18ms/step - loss: 0.0977 - val_loss: 0.1009\n",
      "Epoch 80/100\n",
      "227/227 [==============================] - 4s 18ms/step - loss: 0.0963 - val_loss: 0.1042\n",
      "Epoch 81/100\n",
      "227/227 [==============================] - 4s 17ms/step - loss: 0.0976 - val_loss: 0.1014\n",
      "Epoch 82/100\n",
      "227/227 [==============================] - 4s 18ms/step - loss: 0.0969 - val_loss: 0.1102\n",
      "Epoch 83/100\n",
      "227/227 [==============================] - 4s 17ms/step - loss: 0.0969 - val_loss: 0.1046\n",
      "Epoch 84/100\n",
      "227/227 [==============================] - 4s 17ms/step - loss: 0.0936 - val_loss: 0.1125\n",
      "Epoch 85/100\n",
      "227/227 [==============================] - 4s 17ms/step - loss: 0.0948 - val_loss: 0.1036\n",
      "Epoch 86/100\n",
      "227/227 [==============================] - 4s 17ms/step - loss: 0.0944 - val_loss: 0.0992\n",
      "Epoch 87/100\n",
      "227/227 [==============================] - 4s 17ms/step - loss: 0.0919 - val_loss: 0.1000\n",
      "Epoch 88/100\n",
      "227/227 [==============================] - 4s 17ms/step - loss: 0.0955 - val_loss: 0.1073\n",
      "Epoch 89/100\n",
      "227/227 [==============================] - 4s 17ms/step - loss: 0.0924 - val_loss: 0.0972\n",
      "Epoch 90/100\n",
      "227/227 [==============================] - 4s 17ms/step - loss: 0.0920 - val_loss: 0.0999\n",
      "Epoch 91/100\n",
      "227/227 [==============================] - 4s 17ms/step - loss: 0.0911 - val_loss: 0.0983\n",
      "Epoch 92/100\n",
      "227/227 [==============================] - 4s 17ms/step - loss: 0.0914 - val_loss: 0.0924\n",
      "Epoch 93/100\n",
      "227/227 [==============================] - 4s 17ms/step - loss: 0.0907 - val_loss: 0.1127\n",
      "Epoch 94/100\n",
      "227/227 [==============================] - 4s 17ms/step - loss: 0.0986 - val_loss: 0.1055\n",
      "Epoch 95/100\n",
      "227/227 [==============================] - 4s 17ms/step - loss: 0.0898 - val_loss: 0.0981\n",
      "Epoch 96/100\n",
      "227/227 [==============================] - 4s 17ms/step - loss: 0.0862 - val_loss: 0.1117\n",
      "Epoch 97/100\n",
      "227/227 [==============================] - 4s 17ms/step - loss: 0.0922 - val_loss: 0.0997\n",
      "Epoch 98/100\n",
      "227/227 [==============================] - 4s 17ms/step - loss: 0.0875 - val_loss: 0.0966\n",
      "Epoch 99/100\n",
      "227/227 [==============================] - 4s 17ms/step - loss: 0.0845 - val_loss: 0.1028\n",
      "Epoch 100/100\n",
      "227/227 [==============================] - 4s 17ms/step - loss: 0.0879 - val_loss: 0.0966\n"
     ]
    }
   ],
   "source": [
    "start_time = time.time()\n",
    "run_model(model_1,batches=1, epochs=100, batch_size=batch_size)\n",
    "end_time = time.time()"
   ]
  },
  {
   "cell_type": "code",
   "execution_count": 25,
   "metadata": {},
   "outputs": [],
   "source": [
    "#history.history['loss']"
   ]
  },
  {
   "cell_type": "code",
   "execution_count": 26,
   "metadata": {},
   "outputs": [
    {
     "data": {
      "text/plain": [
       "6.43873147169749"
      ]
     },
     "execution_count": 26,
     "metadata": {},
     "output_type": "execute_result"
    }
   ],
   "source": [
    "run_time = (end_time - start_time)/60\n",
    "run_time"
   ]
  },
  {
   "cell_type": "code",
   "execution_count": 27,
   "metadata": {},
   "outputs": [],
   "source": [
    "total_loss = [j for i in total_loss for j in i]\n",
    "total_val_loss = [j for i in total_val_loss for j in i]"
   ]
  },
  {
   "cell_type": "code",
   "execution_count": 29,
   "metadata": {},
   "outputs": [
    {
     "data": {
      "text/plain": [
       "dict_keys(['loss', 'val_loss'])"
      ]
     },
     "execution_count": 29,
     "metadata": {},
     "output_type": "execute_result"
    }
   ],
   "source": [
    "history.history.keys()"
   ]
  },
  {
   "cell_type": "code",
   "execution_count": 30,
   "metadata": {},
   "outputs": [],
   "source": [
    "def plot_loss(train_loss,val_loss):\n",
    "    plt.figure(figsize=(12,7))\n",
    "    plt.plot(train_loss)\n",
    "    plt.plot(val_loss)\n",
    "\n",
    "    plt.xlabel('Epoch')\n",
    "    plt.ylabel('Mean Sqquared Error Loss')\n",
    "    plt.title('Loss Over Time')\n",
    "    plt.legend(['Train','Valid'])\n",
    "    plt.show()"
   ]
  },
  {
   "cell_type": "code",
   "execution_count": 31,
   "metadata": {},
   "outputs": [
    {
     "data": {
      "image/png": "[encoded data removed]",
      "text/plain": [
       "<Figure size 864x504 with 1 Axes>"
      ]
     },
     "metadata": {},
     "output_type": "display_data"
    }
   ],
   "source": [
    "plot_loss(total_loss,total_val_loss)"
   ]
  },
  {
   "cell_type": "markdown",
   "metadata": {},
   "source": [
    "Рис. График зависимости ошибки обучения от количества эпох"
   ]
  },
  {
   "cell_type": "code",
   "execution_count": 32,
   "metadata": {},
   "outputs": [],
   "source": [
    "input_seq_test = x_train[-60:].reshape((1,60,1))\n",
    "output_seq_test = x_test[:20]\n",
    "decoder_input_test = np.zeros((1,output_seq_len,1))"
   ]
  },
  {
   "cell_type": "code",
   "execution_count": 34,
   "metadata": {},
   "outputs": [],
   "source": [
    "#input_seq_test"
   ]
  },
  {
   "cell_type": "code",
   "execution_count": 35,
   "metadata": {},
   "outputs": [],
   "source": [
    "pred1 = model_1.predict([input_seq_test,decoder_input_test])"
   ]
  },
  {
   "cell_type": "code",
   "execution_count": 36,
   "metadata": {},
   "outputs": [],
   "source": [
    "pred_values1 = scaler.inverse_transform(pred1.reshape(-1,1))\n",
    "output_seq_test1 = scaler.inverse_transform(output_seq_test)"
   ]
  },
  {
   "cell_type": "code",
   "execution_count": 37,
   "metadata": {},
   "outputs": [
    {
     "data": {
      "image/png": "[encoded data removed]",
      "text/plain": [
       "<Figure size 432x288 with 1 Axes>"
      ]
     },
     "metadata": {},
     "output_type": "display_data"
    }
   ],
   "source": [
    "plt.plot(pred_values1, label = \"pred\")\n",
    "plt.plot(output_seq_test1, label = \"actual\")\n",
    "plt.title(\"1-напр 1-слойный\")\n",
    "plt.ylabel(\"Bid\", fontsize=12)\n",
    "plt.xlabel(\"Time\", fontsize=12)\n",
    "plt.legend()\n",
    "plt.savefig('uni_dir1.png')"
   ]
  },
  {
   "cell_type": "markdown",
   "metadata": {},
   "source": [
    "Рис. График прогнозируемой функции"
   ]
  },
  {
   "cell_type": "code",
   "execution_count": 38,
   "metadata": {},
   "outputs": [],
   "source": [
    "# serialize model to JSON\n",
    "# model_json = model_1.to_json()\n",
    "# with open(\"model_1.json\", \"w\") as json_file:\n",
    "#     json_file.write(model_json)\n",
    "# # serialize weights to HDF5\n",
    "# model_1.save_weights(\"model_1.h5\")\n",
    "# print(\"Saved model to disk\")"
   ]
  },
  {
   "cell_type": "markdown",
   "metadata": {},
   "source": [
    "# 2.  Двунаправленная 1-слойная модель"
   ]
  },
  {
   "cell_type": "code",
   "execution_count": 39,
   "metadata": {},
   "outputs": [],
   "source": [
    "model1_bi = create_model(layers=[60],bidirectional=True)"
   ]
  },
  {
   "cell_type": "code",
   "execution_count": 40,
   "metadata": {},
   "outputs": [],
   "source": [
    "# from keras.models import model_from_json\n",
    "# # load json and create model\n",
    "# json_file = open('model1_bi.json', 'r')\n",
    "# loaded_model_json = json_file.read()\n",
    "# json_file.close()\n",
    "# model1_bi = model_from_json(loaded_model_json)\n",
    "# # load weights into new model\n",
    "# model1_bi.load_weights(\"model1_bi.h5\")\n",
    "# print(\"Loaded model from disk\")"
   ]
  },
  {
   "cell_type": "code",
   "execution_count": 41,
   "metadata": {},
   "outputs": [],
   "source": [
    "total_loss = []\n",
    "total_val_loss = []\n",
    "model1_bi.compile(Adam(), loss = 'mean_squared_error')"
   ]
  },
  {
   "cell_type": "code",
   "execution_count": null,
   "metadata": {},
   "outputs": [],
   "source": []
  },
  {
   "cell_type": "code",
   "execution_count": 42,
   "metadata": {},
   "outputs": [
    {
     "name": "stdout",
     "output_type": "stream",
     "text": [
      "Epoch 1/100\n",
      "  2/227 [..............................] - ETA: 48s - loss: 0.3658WARNING:tensorflow:Callbacks method `on_train_batch_end` is slow compared to the batch time (batch time: 0.0266s vs `on_train_batch_end` time: 0.3939s). Check your callbacks.\n",
      "227/227 [==============================] - 4s 19ms/step - loss: 0.1676 - val_loss: 0.1382\n",
      "Epoch 2/100\n",
      "227/227 [==============================] - 4s 16ms/step - loss: 0.1560 - val_loss: 0.1364\n",
      "Epoch 3/100\n",
      "227/227 [==============================] - 4s 16ms/step - loss: 0.1531 - val_loss: 0.1430\n",
      "Epoch 4/100\n",
      "227/227 [==============================] - 4s 16ms/step - loss: 0.1519 - val_loss: 0.1361\n",
      "Epoch 5/100\n",
      "227/227 [==============================] - 4s 16ms/step - loss: 0.1476 - val_loss: 0.1329\n",
      "Epoch 6/100\n",
      "227/227 [==============================] - 4s 16ms/step - loss: 0.1470 - val_loss: 0.1330\n",
      "Epoch 7/100\n",
      "227/227 [==============================] - 4s 16ms/step - loss: 0.1454 - val_loss: 0.1311\n",
      "Epoch 8/100\n",
      "227/227 [==============================] - 4s 16ms/step - loss: 0.1449 - val_loss: 0.1312\n",
      "Epoch 9/100\n",
      "227/227 [==============================] - 4s 16ms/step - loss: 0.1440 - val_loss: 0.1315\n",
      "Epoch 10/100\n",
      "227/227 [==============================] - 4s 16ms/step - loss: 0.1426 - val_loss: 0.1292\n",
      "Epoch 11/100\n",
      "227/227 [==============================] - 4s 16ms/step - loss: 0.1428 - val_loss: 0.1293\n",
      "Epoch 12/100\n",
      "227/227 [==============================] - 4s 16ms/step - loss: 0.1423 - val_loss: 0.1277\n",
      "Epoch 13/100\n",
      "227/227 [==============================] - 4s 16ms/step - loss: 0.1403 - val_loss: 0.1289\n",
      "Epoch 14/100\n",
      "227/227 [==============================] - 4s 17ms/step - loss: 0.1413 - val_loss: 0.1278\n",
      "Epoch 15/100\n",
      "227/227 [==============================] - 4s 16ms/step - loss: 0.1397 - val_loss: 0.1261\n",
      "Epoch 16/100\n",
      "227/227 [==============================] - 4s 16ms/step - loss: 0.1382 - val_loss: 0.1268\n",
      "Epoch 17/100\n",
      "227/227 [==============================] - 4s 16ms/step - loss: 0.1390 - val_loss: 0.1270\n",
      "Epoch 18/100\n",
      "227/227 [==============================] - 4s 16ms/step - loss: 0.1380 - val_loss: 0.1246\n",
      "Epoch 19/100\n",
      "227/227 [==============================] - 4s 16ms/step - loss: 0.1375 - val_loss: 0.1349\n",
      "Epoch 20/100\n",
      "227/227 [==============================] - 4s 17ms/step - loss: 0.1365 - val_loss: 0.1264\n",
      "Epoch 21/100\n",
      "227/227 [==============================] - 4s 16ms/step - loss: 0.1385 - val_loss: 0.1271\n",
      "Epoch 22/100\n",
      "227/227 [==============================] - 4s 17ms/step - loss: 0.1372 - val_loss: 0.1254\n",
      "Epoch 23/100\n",
      "227/227 [==============================] - 4s 16ms/step - loss: 0.1369 - val_loss: 0.1246\n",
      "Epoch 24/100\n",
      "227/227 [==============================] - 4s 16ms/step - loss: 0.1352 - val_loss: 0.1250\n",
      "Epoch 25/100\n",
      "227/227 [==============================] - 4s 16ms/step - loss: 0.1347 - val_loss: 0.1209\n",
      "Epoch 26/100\n",
      "227/227 [==============================] - 4s 16ms/step - loss: 0.1335 - val_loss: 0.1227\n",
      "Epoch 27/100\n",
      "227/227 [==============================] - 4s 16ms/step - loss: 0.1346 - val_loss: 0.1268\n",
      "Epoch 28/100\n",
      "227/227 [==============================] - 4s 16ms/step - loss: 0.1358 - val_loss: 0.1242\n",
      "Epoch 29/100\n",
      "227/227 [==============================] - 4s 16ms/step - loss: 0.1356 - val_loss: 0.1292\n",
      "Epoch 30/100\n",
      "227/227 [==============================] - 4s 16ms/step - loss: 0.1345 - val_loss: 0.1249\n",
      "Epoch 31/100\n",
      "227/227 [==============================] - 4s 16ms/step - loss: 0.1315 - val_loss: 0.1214\n",
      "Epoch 32/100\n",
      "227/227 [==============================] - 4s 16ms/step - loss: 0.1322 - val_loss: 0.1213\n",
      "Epoch 33/100\n",
      "227/227 [==============================] - 4s 16ms/step - loss: 0.1270 - val_loss: 0.1156\n",
      "Epoch 34/100\n",
      "227/227 [==============================] - 4s 16ms/step - loss: 0.1286 - val_loss: 0.1176\n",
      "Epoch 35/100\n",
      "227/227 [==============================] - 4s 16ms/step - loss: 0.1321 - val_loss: 0.1265\n",
      "Epoch 36/100\n",
      "227/227 [==============================] - 4s 16ms/step - loss: 0.1315 - val_loss: 0.1157\n",
      "Epoch 37/100\n",
      "227/227 [==============================] - 4s 16ms/step - loss: 0.1271 - val_loss: 0.1246\n",
      "Epoch 38/100\n",
      "227/227 [==============================] - 4s 16ms/step - loss: 0.1249 - val_loss: 0.1137\n",
      "Epoch 39/100\n",
      "227/227 [==============================] - 4s 19ms/step - loss: 0.1214 - val_loss: 0.1137\n",
      "Epoch 40/100\n",
      "227/227 [==============================] - 4s 16ms/step - loss: 0.1190 - val_loss: 0.1110\n",
      "Epoch 41/100\n",
      "227/227 [==============================] - 4s 16ms/step - loss: 0.1179 - val_loss: 0.1155\n",
      "Epoch 42/100\n",
      "227/227 [==============================] - 4s 16ms/step - loss: 0.1271 - val_loss: 0.1181\n",
      "Epoch 43/100\n",
      "227/227 [==============================] - 4s 16ms/step - loss: 0.1237 - val_loss: 0.1166\n",
      "Epoch 44/100\n",
      "227/227 [==============================] - 4s 16ms/step - loss: 0.1292 - val_loss: 0.1173\n",
      "Epoch 45/100\n",
      "227/227 [==============================] - 4s 16ms/step - loss: 0.1223 - val_loss: 0.1181\n",
      "Epoch 46/100\n",
      "227/227 [==============================] - 4s 16ms/step - loss: 0.1208 - val_loss: 0.1107\n",
      "Epoch 47/100\n",
      "227/227 [==============================] - 4s 16ms/step - loss: 0.1150 - val_loss: 0.1110\n",
      "Epoch 48/100\n",
      "227/227 [==============================] - 4s 16ms/step - loss: 0.1129 - val_loss: 0.1075\n",
      "Epoch 49/100\n",
      "227/227 [==============================] - 4s 16ms/step - loss: 0.1114 - val_loss: 0.1081\n",
      "Epoch 50/100\n",
      "227/227 [==============================] - 4s 16ms/step - loss: 0.1185 - val_loss: 0.1153\n",
      "Epoch 51/100\n",
      "227/227 [==============================] - 4s 16ms/step - loss: 0.1192 - val_loss: 0.1139\n",
      "Epoch 52/100\n",
      "227/227 [==============================] - 4s 16ms/step - loss: 0.1154 - val_loss: 0.1079\n",
      "Epoch 53/100\n",
      "227/227 [==============================] - 4s 16ms/step - loss: 0.1115 - val_loss: 0.1063\n",
      "Epoch 54/100\n",
      "227/227 [==============================] - 4s 16ms/step - loss: 0.1088 - val_loss: 0.1034\n",
      "Epoch 55/100\n",
      "227/227 [==============================] - 4s 16ms/step - loss: 0.1065 - val_loss: 0.1037\n",
      "Epoch 56/100\n",
      "227/227 [==============================] - 4s 16ms/step - loss: 0.1096 - val_loss: 0.1030\n",
      "Epoch 57/100\n",
      "227/227 [==============================] - 4s 16ms/step - loss: 0.1072 - val_loss: 0.1043\n",
      "Epoch 58/100\n",
      "227/227 [==============================] - 4s 16ms/step - loss: 0.1048 - val_loss: 0.1019\n",
      "Epoch 59/100\n",
      "227/227 [==============================] - 4s 16ms/step - loss: 0.1049 - val_loss: 0.1026\n",
      "Epoch 60/100\n",
      "227/227 [==============================] - 4s 16ms/step - loss: 0.1043 - val_loss: 0.1029\n",
      "Epoch 61/100\n",
      "227/227 [==============================] - 4s 16ms/step - loss: 0.1068 - val_loss: 0.1022\n",
      "Epoch 62/100\n",
      "227/227 [==============================] - 4s 16ms/step - loss: 0.1051 - val_loss: 0.1001\n",
      "Epoch 63/100\n",
      "227/227 [==============================] - 4s 16ms/step - loss: 0.1022 - val_loss: 0.0976\n",
      "Epoch 64/100\n",
      "227/227 [==============================] - 4s 16ms/step - loss: 0.1023 - val_loss: 0.1004\n",
      "Epoch 65/100\n",
      "227/227 [==============================] - 4s 16ms/step - loss: 0.1023 - val_loss: 0.1031\n",
      "Epoch 66/100\n",
      "227/227 [==============================] - 4s 16ms/step - loss: 0.1049 - val_loss: 0.1070\n",
      "Epoch 67/100\n",
      "227/227 [==============================] - 4s 16ms/step - loss: 0.1067 - val_loss: 0.1101\n",
      "Epoch 68/100\n",
      "227/227 [==============================] - 4s 16ms/step - loss: 0.1030 - val_loss: 0.0995\n",
      "Epoch 69/100\n",
      "227/227 [==============================] - 4s 16ms/step - loss: 0.0993 - val_loss: 0.1002\n",
      "Epoch 70/100\n",
      "227/227 [==============================] - 4s 16ms/step - loss: 0.0986 - val_loss: 0.0998\n",
      "Epoch 71/100\n",
      "227/227 [==============================] - 4s 16ms/step - loss: 0.0971 - val_loss: 0.0994\n",
      "Epoch 72/100\n",
      "227/227 [==============================] - 4s 16ms/step - loss: 0.0968 - val_loss: 0.0953\n",
      "Epoch 73/100\n",
      "227/227 [==============================] - 4s 16ms/step - loss: 0.0979 - val_loss: 0.0985\n",
      "Epoch 74/100\n",
      "227/227 [==============================] - 4s 16ms/step - loss: 0.0967 - val_loss: 0.0972\n",
      "Epoch 75/100\n",
      "227/227 [==============================] - 4s 16ms/step - loss: 0.0965 - val_loss: 0.0985\n",
      "Epoch 76/100\n",
      "227/227 [==============================] - 4s 16ms/step - loss: 0.0959 - val_loss: 0.0994\n",
      "Epoch 77/100\n",
      "227/227 [==============================] - 4s 16ms/step - loss: 0.0934 - val_loss: 0.0970\n",
      "Epoch 78/100\n",
      "227/227 [==============================] - 4s 16ms/step - loss: 0.0962 - val_loss: 0.0968\n",
      "Epoch 79/100\n",
      "227/227 [==============================] - 4s 16ms/step - loss: 0.0927 - val_loss: 0.1016\n",
      "Epoch 80/100\n",
      "227/227 [==============================] - 4s 16ms/step - loss: 0.0933 - val_loss: 0.0967\n",
      "Epoch 81/100\n",
      "227/227 [==============================] - 4s 16ms/step - loss: 0.0937 - val_loss: 0.0947\n",
      "Epoch 82/100\n",
      "227/227 [==============================] - 4s 16ms/step - loss: 0.0920 - val_loss: 0.0893\n",
      "Epoch 83/100\n",
      "227/227 [==============================] - 4s 16ms/step - loss: 0.0914 - val_loss: 0.0961\n",
      "Epoch 84/100\n",
      "227/227 [==============================] - 4s 16ms/step - loss: 0.0891 - val_loss: 0.0934\n",
      "Epoch 85/100\n",
      "227/227 [==============================] - 4s 16ms/step - loss: 0.0897 - val_loss: 0.0894\n",
      "Epoch 86/100\n",
      "227/227 [==============================] - 4s 16ms/step - loss: 0.0895 - val_loss: 0.0960\n",
      "Epoch 87/100\n",
      "227/227 [==============================] - 4s 16ms/step - loss: 0.0880 - val_loss: 0.0930\n",
      "Epoch 88/100\n",
      "227/227 [==============================] - 4s 16ms/step - loss: 0.0901 - val_loss: 0.0923\n",
      "Epoch 89/100\n",
      "227/227 [==============================] - 4s 16ms/step - loss: 0.0888 - val_loss: 0.0902\n",
      "Epoch 90/100\n",
      "227/227 [==============================] - 4s 16ms/step - loss: 0.0843 - val_loss: 0.0905\n",
      "Epoch 91/100\n",
      "227/227 [==============================] - 4s 16ms/step - loss: 0.0878 - val_loss: 0.0879\n",
      "Epoch 92/100\n",
      "227/227 [==============================] - 4s 16ms/step - loss: 0.0919 - val_loss: 0.0963\n",
      "Epoch 93/100\n",
      "227/227 [==============================] - 4s 16ms/step - loss: 0.0846 - val_loss: 0.0879\n",
      "Epoch 94/100\n",
      "227/227 [==============================] - 4s 16ms/step - loss: 0.0841 - val_loss: 0.0883\n",
      "Epoch 95/100\n",
      "227/227 [==============================] - 4s 16ms/step - loss: 0.0847 - val_loss: 0.0888\n",
      "Epoch 96/100\n",
      "227/227 [==============================] - 4s 16ms/step - loss: 0.0823 - val_loss: 0.0925\n",
      "Epoch 97/100\n",
      "227/227 [==============================] - 4s 16ms/step - loss: 0.0844 - val_loss: 0.0931\n",
      "Epoch 98/100\n",
      "227/227 [==============================] - 4s 16ms/step - loss: 0.0782 - val_loss: 0.0919\n",
      "Epoch 99/100\n",
      "227/227 [==============================] - 4s 16ms/step - loss: 0.0865 - val_loss: 0.0969\n",
      "Epoch 100/100\n",
      "227/227 [==============================] - 4s 16ms/step - loss: 0.0826 - val_loss: 0.0874\n"
     ]
    }
   ],
   "source": [
    "#bi 1 layered model\n",
    "start_time = time.time()\n",
    "run_model(model1_bi,batches=1, epochs=100, batch_size=batch_size)\n",
    "end_time = time.time()"
   ]
  },
  {
   "cell_type": "code",
   "execution_count": 43,
   "metadata": {},
   "outputs": [
    {
     "data": {
      "text/plain": [
       "6.1069254040718075"
      ]
     },
     "execution_count": 43,
     "metadata": {},
     "output_type": "execute_result"
    }
   ],
   "source": [
    "run_time = (end_time - start_time)/60\n",
    "run_time"
   ]
  },
  {
   "cell_type": "code",
   "execution_count": 44,
   "metadata": {},
   "outputs": [],
   "source": [
    "total_loss = [j for i in total_loss for j in i]\n",
    "total_val_loss = [j for i in total_val_loss for j in i]"
   ]
  },
  {
   "cell_type": "code",
   "execution_count": 45,
   "metadata": {},
   "outputs": [
    {
     "data": {
      "image/png": "[encoded data removed]",
      "text/plain": [
       "<Figure size 864x504 with 1 Axes>"
      ]
     },
     "metadata": {},
     "output_type": "display_data"
    }
   ],
   "source": [
    "plot_loss(total_loss,total_val_loss)"
   ]
  },
  {
   "cell_type": "markdown",
   "metadata": {},
   "source": [
    "Рис. График зависимости ошибки обучения от количества эпох"
   ]
  },
  {
   "cell_type": "code",
   "execution_count": 46,
   "metadata": {},
   "outputs": [],
   "source": [
    "input_seq_test = x_train[-60:].reshape((1,60,1))\n",
    "output_seq_test = x_test[:20]\n",
    "decoder_input_test = np.zeros((1,output_seq_len,1))"
   ]
  },
  {
   "cell_type": "code",
   "execution_count": 47,
   "metadata": {},
   "outputs": [],
   "source": [
    "pred = model1_bi.predict([input_seq_test,decoder_input_test])"
   ]
  },
  {
   "cell_type": "code",
   "execution_count": 48,
   "metadata": {},
   "outputs": [],
   "source": [
    "pred_values = scaler.inverse_transform(pred.reshape(-1,1))\n",
    "output_seq_test = scaler.inverse_transform(output_seq_test)\n",
    "input_seq_test = scaler.inverse_transform(input_seq_test.reshape(-1,1))"
   ]
  },
  {
   "cell_type": "code",
   "execution_count": 49,
   "metadata": {},
   "outputs": [
    {
     "data": {
      "image/png": "[encoded data removed]",
      "text/plain": [
       "<Figure size 432x288 with 1 Axes>"
      ]
     },
     "metadata": {},
     "output_type": "display_data"
    }
   ],
   "source": [
    "plt.plot(pred_values, label = \"pred\")\n",
    "plt.plot(output_seq_test, label = \"actual\")\n",
    "plt.title(\"2-напр 1-слойный\")\n",
    "plt.ylabel(\"Bid\", fontsize=12)\n",
    "plt.xlabel(\"Time\", fontsize=12)\n",
    "plt.legend()\n",
    "plt.savefig('bi_dir1.png')"
   ]
  },
  {
   "cell_type": "markdown",
   "metadata": {},
   "source": [
    "Рис. График прогнозируемой функции"
   ]
  },
  {
   "cell_type": "code",
   "execution_count": 50,
   "metadata": {},
   "outputs": [],
   "source": [
    "# serialize model to JSON\n",
    "# model_json = model_1.to_json()\n",
    "# with open(\"model1_bi.json\", \"w\") as json_file:\n",
    "#     json_file.write(model_json)\n",
    "# # serialize weights to HDF5\n",
    "# model_1.save_weights(\"model1_bi.h5\")\n",
    "# print(\"Saved model to disk\")"
   ]
  },
  {
   "cell_type": "markdown",
   "metadata": {},
   "source": [
    "# 3. Однонаправленная 2-слойная модель"
   ]
  },
  {
   "cell_type": "code",
   "execution_count": 63,
   "metadata": {},
   "outputs": [],
   "source": [
    "model_2 = create_model([60,60],bidirectional=False)"
   ]
  },
  {
   "cell_type": "code",
   "execution_count": 64,
   "metadata": {},
   "outputs": [],
   "source": [
    "# from keras.models import model_from_json\n",
    "# # load json and create model\n",
    "# json_file = open('model_2.json', 'r')\n",
    "# loaded_model_json = json_file.read()\n",
    "# json_file.close()\n",
    "# model_2 = model_from_json(loaded_model_json)\n",
    "# # load weights into new model\n",
    "# model_2.load_weights(\"model_2.h5\")\n",
    "# print(\"Loaded model from disk\")"
   ]
  },
  {
   "cell_type": "code",
   "execution_count": 65,
   "metadata": {},
   "outputs": [],
   "source": [
    "total_loss = []\n",
    "total_val_loss = []\n",
    "model_2.compile(Adam(), loss = 'mean_squared_error')"
   ]
  },
  {
   "cell_type": "code",
   "execution_count": 66,
   "metadata": {},
   "outputs": [
    {
     "name": "stdout",
     "output_type": "stream",
     "text": [
      "Epoch 1/100\n",
      "  2/227 [..............................] - ETA: 52s - loss: 0.5620WARNING:tensorflow:Callbacks method `on_train_batch_end` is slow compared to the batch time (batch time: 0.0340s vs `on_train_batch_end` time: 0.4320s). Check your callbacks.\n",
      "227/227 [==============================] - 5s 23ms/step - loss: 0.1694 - val_loss: 0.1390\n",
      "Epoch 2/100\n",
      "227/227 [==============================] - 4s 19ms/step - loss: 0.1581 - val_loss: 0.1368\n",
      "Epoch 3/100\n",
      "227/227 [==============================] - 4s 19ms/step - loss: 0.1535 - val_loss: 0.1292\n",
      "Epoch 4/100\n",
      "227/227 [==============================] - 4s 19ms/step - loss: 0.1500 - val_loss: 0.1307\n",
      "Epoch 5/100\n",
      "227/227 [==============================] - 4s 20ms/step - loss: 0.1490 - val_loss: 0.1280\n",
      "Epoch 6/100\n",
      "227/227 [==============================] - 4s 19ms/step - loss: 0.1546 - val_loss: 0.1370\n",
      "Epoch 7/100\n",
      "227/227 [==============================] - 4s 19ms/step - loss: 0.1501 - val_loss: 0.1256\n",
      "Epoch 8/100\n",
      "227/227 [==============================] - 4s 19ms/step - loss: 0.1463 - val_loss: 0.1241\n",
      "Epoch 9/100\n",
      "227/227 [==============================] - 4s 20ms/step - loss: 0.1439 - val_loss: 0.1241\n",
      "Epoch 10/100\n",
      "227/227 [==============================] - 4s 20ms/step - loss: 0.1440 - val_loss: 0.1235\n",
      "Epoch 11/100\n",
      "227/227 [==============================] - 4s 19ms/step - loss: 0.1451 - val_loss: 0.1277\n",
      "Epoch 12/100\n",
      "227/227 [==============================] - 4s 19ms/step - loss: 0.1432 - val_loss: 0.1230\n",
      "Epoch 13/100\n",
      "227/227 [==============================] - 4s 19ms/step - loss: 0.1408 - val_loss: 0.1229\n",
      "Epoch 14/100\n",
      "227/227 [==============================] - 4s 20ms/step - loss: 0.1403 - val_loss: 0.1231\n",
      "Epoch 15/100\n",
      "227/227 [==============================] - 5s 20ms/step - loss: 0.1411 - val_loss: 0.1231\n",
      "Epoch 16/100\n",
      "227/227 [==============================] - 4s 19ms/step - loss: 0.1403 - val_loss: 0.1226\n",
      "Epoch 17/100\n",
      "227/227 [==============================] - 4s 19ms/step - loss: 0.1395 - val_loss: 0.1229\n",
      "Epoch 18/100\n",
      "227/227 [==============================] - 4s 19ms/step - loss: 0.1388 - val_loss: 0.1212\n",
      "Epoch 19/100\n",
      "227/227 [==============================] - 4s 19ms/step - loss: 0.1371 - val_loss: 0.1206\n",
      "Epoch 20/100\n",
      "227/227 [==============================] - 4s 19ms/step - loss: 0.1383 - val_loss: 0.1222\n",
      "Epoch 21/100\n",
      "227/227 [==============================] - 4s 19ms/step - loss: 0.1381 - val_loss: 0.1316\n",
      "Epoch 22/100\n",
      "227/227 [==============================] - 4s 19ms/step - loss: 0.1409 - val_loss: 0.1211\n",
      "Epoch 23/100\n",
      "227/227 [==============================] - 4s 19ms/step - loss: 0.1364 - val_loss: 0.1207\n",
      "Epoch 24/100\n",
      "227/227 [==============================] - 4s 19ms/step - loss: 0.1370 - val_loss: 0.1226\n",
      "Epoch 25/100\n",
      "227/227 [==============================] - 4s 19ms/step - loss: 0.1391 - val_loss: 0.1191\n",
      "Epoch 26/100\n",
      "227/227 [==============================] - 5s 20ms/step - loss: 0.1352 - val_loss: 0.1193\n",
      "Epoch 27/100\n",
      "227/227 [==============================] - 4s 19ms/step - loss: 0.1330 - val_loss: 0.1173\n",
      "Epoch 28/100\n",
      "227/227 [==============================] - 5s 20ms/step - loss: 0.1368 - val_loss: 0.1251\n",
      "Epoch 29/100\n",
      "227/227 [==============================] - 5s 20ms/step - loss: 0.1371 - val_loss: 0.1158\n",
      "Epoch 30/100\n",
      "227/227 [==============================] - 5s 20ms/step - loss: 0.1342 - val_loss: 0.1194\n",
      "Epoch 31/100\n",
      "227/227 [==============================] - 4s 20ms/step - loss: 0.1334 - val_loss: 0.1131\n",
      "Epoch 32/100\n",
      "227/227 [==============================] - 5s 20ms/step - loss: 0.1304 - val_loss: 0.1123\n",
      "Epoch 33/100\n",
      "227/227 [==============================] - 4s 20ms/step - loss: 0.1307 - val_loss: 0.1205\n",
      "Epoch 34/100\n",
      "227/227 [==============================] - 4s 19ms/step - loss: 0.1314 - val_loss: 0.1160\n",
      "Epoch 35/100\n",
      "227/227 [==============================] - 4s 20ms/step - loss: 0.1284 - val_loss: 0.1122\n",
      "Epoch 36/100\n",
      "227/227 [==============================] - 4s 20ms/step - loss: 0.1294 - val_loss: 0.1182\n",
      "Epoch 37/100\n",
      "227/227 [==============================] - 4s 19ms/step - loss: 0.1292 - val_loss: 0.1156\n",
      "Epoch 38/100\n",
      "227/227 [==============================] - 5s 20ms/step - loss: 0.1296 - val_loss: 0.1155\n",
      "Epoch 39/100\n",
      "227/227 [==============================] - 5s 20ms/step - loss: 0.1263 - val_loss: 0.1112\n",
      "Epoch 40/100\n",
      "227/227 [==============================] - 5s 20ms/step - loss: 0.1302 - val_loss: 0.1106\n",
      "Epoch 41/100\n",
      "227/227 [==============================] - 5s 20ms/step - loss: 0.1273 - val_loss: 0.1049\n",
      "Epoch 42/100\n",
      "227/227 [==============================] - 4s 20ms/step - loss: 0.1247 - val_loss: 0.1089\n",
      "Epoch 43/100\n",
      "227/227 [==============================] - 5s 20ms/step - loss: 0.1223 - val_loss: 0.1055\n",
      "Epoch 44/100\n",
      "227/227 [==============================] - 5s 20ms/step - loss: 0.1225 - val_loss: 0.1151\n",
      "Epoch 45/100\n",
      "227/227 [==============================] - 5s 20ms/step - loss: 0.1234 - val_loss: 0.1078\n",
      "Epoch 46/100\n",
      "227/227 [==============================] - 4s 20ms/step - loss: 0.1189 - val_loss: 0.1171\n",
      "Epoch 47/100\n",
      "227/227 [==============================] - 4s 20ms/step - loss: 0.1320 - val_loss: 0.1216\n",
      "Epoch 48/100\n",
      "227/227 [==============================] - 4s 20ms/step - loss: 0.1299 - val_loss: 0.1176\n",
      "Epoch 49/100\n",
      "227/227 [==============================] - 5s 20ms/step - loss: 0.1228 - val_loss: 0.1097\n",
      "Epoch 50/100\n",
      "227/227 [==============================] - 5s 20ms/step - loss: 0.1209 - val_loss: 0.1142\n",
      "Epoch 51/100\n",
      "227/227 [==============================] - 4s 20ms/step - loss: 0.1173 - val_loss: 0.1038\n",
      "Epoch 52/100\n",
      "227/227 [==============================] - 4s 20ms/step - loss: 0.1159 - val_loss: 0.1133\n",
      "Epoch 53/100\n",
      "227/227 [==============================] - 4s 20ms/step - loss: 0.1175 - val_loss: 0.1027\n",
      "Epoch 54/100\n",
      "227/227 [==============================] - 4s 20ms/step - loss: 0.1128 - val_loss: 0.0988\n",
      "Epoch 55/100\n",
      "227/227 [==============================] - 4s 20ms/step - loss: 0.1109 - val_loss: 0.0993\n",
      "Epoch 56/100\n",
      "227/227 [==============================] - 4s 20ms/step - loss: 0.1158 - val_loss: 0.1032\n",
      "Epoch 57/100\n",
      "227/227 [==============================] - 5s 20ms/step - loss: 0.1096 - val_loss: 0.0979\n",
      "Epoch 58/100\n",
      "227/227 [==============================] - 4s 20ms/step - loss: 0.1141 - val_loss: 0.0957\n",
      "Epoch 59/100\n",
      "227/227 [==============================] - 5s 20ms/step - loss: 0.1073 - val_loss: 0.0946\n",
      "Epoch 60/100\n",
      "227/227 [==============================] - 5s 20ms/step - loss: 0.1080 - val_loss: 0.0934\n",
      "Epoch 61/100\n",
      "227/227 [==============================] - 5s 20ms/step - loss: 0.1066 - val_loss: 0.0959\n",
      "Epoch 62/100\n",
      "227/227 [==============================] - 5s 20ms/step - loss: 0.1078 - val_loss: 0.0983\n",
      "Epoch 63/100\n",
      "227/227 [==============================] - 5s 21ms/step - loss: 0.1065 - val_loss: 0.0941\n",
      "Epoch 64/100\n",
      "227/227 [==============================] - 5s 21ms/step - loss: 0.1025 - val_loss: 0.0946\n",
      "Epoch 65/100\n",
      "227/227 [==============================] - 5s 21ms/step - loss: 0.1074 - val_loss: 0.1044\n",
      "Epoch 66/100\n",
      "227/227 [==============================] - 5s 21ms/step - loss: 0.1024 - val_loss: 0.0909\n",
      "Epoch 67/100\n",
      "227/227 [==============================] - 5s 21ms/step - loss: 0.0989 - val_loss: 0.0909\n",
      "Epoch 68/100\n",
      "227/227 [==============================] - 5s 21ms/step - loss: 0.0991 - val_loss: 0.0898\n",
      "Epoch 69/100\n",
      "227/227 [==============================] - 5s 21ms/step - loss: 0.0984 - val_loss: 0.0882\n",
      "Epoch 70/100\n",
      "227/227 [==============================] - 5s 21ms/step - loss: 0.0978 - val_loss: 0.0882\n",
      "Epoch 71/100\n",
      "227/227 [==============================] - 5s 21ms/step - loss: 0.1021 - val_loss: 0.0848\n",
      "Epoch 72/100\n",
      "227/227 [==============================] - 5s 21ms/step - loss: 0.0954 - val_loss: 0.0888\n",
      "Epoch 73/100\n",
      "227/227 [==============================] - 5s 21ms/step - loss: 0.0997 - val_loss: 0.0948\n",
      "Epoch 74/100\n",
      "227/227 [==============================] - 5s 21ms/step - loss: 0.0946 - val_loss: 0.0838\n",
      "Epoch 75/100\n",
      "227/227 [==============================] - 4s 20ms/step - loss: 0.0901 - val_loss: 0.0800\n",
      "Epoch 76/100\n",
      "227/227 [==============================] - 4s 20ms/step - loss: 0.0939 - val_loss: 0.0873\n",
      "Epoch 77/100\n",
      "227/227 [==============================] - 4s 20ms/step - loss: 0.0879 - val_loss: 0.0827\n",
      "Epoch 78/100\n",
      "227/227 [==============================] - 4s 19ms/step - loss: 0.0937 - val_loss: 0.0824\n",
      "Epoch 79/100\n",
      "227/227 [==============================] - 4s 20ms/step - loss: 0.0913 - val_loss: 0.0846\n",
      "Epoch 80/100\n",
      "227/227 [==============================] - 4s 20ms/step - loss: 0.1037 - val_loss: 0.0890\n",
      "Epoch 81/100\n",
      "227/227 [==============================] - 4s 19ms/step - loss: 0.0874 - val_loss: 0.0812\n",
      "Epoch 82/100\n",
      "227/227 [==============================] - 4s 19ms/step - loss: 0.0903 - val_loss: 0.0848\n",
      "Epoch 83/100\n",
      "227/227 [==============================] - 4s 19ms/step - loss: 0.0815 - val_loss: 0.0791\n",
      "Epoch 84/100\n",
      "227/227 [==============================] - 4s 19ms/step - loss: 0.0874 - val_loss: 0.0830\n",
      "Epoch 85/100\n",
      "227/227 [==============================] - 4s 20ms/step - loss: 0.0877 - val_loss: 0.0833\n",
      "Epoch 86/100\n",
      "227/227 [==============================] - 4s 20ms/step - loss: 0.0936 - val_loss: 0.0863\n",
      "Epoch 87/100\n",
      "227/227 [==============================] - 4s 19ms/step - loss: 0.0808 - val_loss: 0.0775\n",
      "Epoch 88/100\n",
      "227/227 [==============================] - 4s 20ms/step - loss: 0.0872 - val_loss: 0.0758\n",
      "Epoch 89/100\n",
      "227/227 [==============================] - 4s 20ms/step - loss: 0.0809 - val_loss: 0.0731\n",
      "Epoch 90/100\n",
      "227/227 [==============================] - 4s 19ms/step - loss: 0.0741 - val_loss: 0.0731\n",
      "Epoch 91/100\n",
      "227/227 [==============================] - 4s 19ms/step - loss: 0.0785 - val_loss: 0.0746\n",
      "Epoch 92/100\n",
      "227/227 [==============================] - 4s 19ms/step - loss: 0.0756 - val_loss: 0.0719\n",
      "Epoch 93/100\n",
      "227/227 [==============================] - 4s 19ms/step - loss: 0.0824 - val_loss: 0.0745\n",
      "Epoch 94/100\n",
      "227/227 [==============================] - 4s 19ms/step - loss: 0.0771 - val_loss: 0.0778\n",
      "Epoch 95/100\n",
      "227/227 [==============================] - 4s 19ms/step - loss: 0.0723 - val_loss: 0.0679\n",
      "Epoch 96/100\n",
      "227/227 [==============================] - 4s 19ms/step - loss: 0.0737 - val_loss: 0.0754\n",
      "Epoch 97/100\n",
      "227/227 [==============================] - 4s 20ms/step - loss: 0.0818 - val_loss: 0.0823\n",
      "Epoch 98/100\n",
      "227/227 [==============================] - 5s 20ms/step - loss: 0.0705 - val_loss: 0.0691\n",
      "Epoch 99/100\n",
      "227/227 [==============================] - 4s 20ms/step - loss: 0.0713 - val_loss: 0.0709\n",
      "Epoch 100/100\n",
      "227/227 [==============================] - 4s 20ms/step - loss: 0.0707 - val_loss: 0.0693\n"
     ]
    }
   ],
   "source": [
    "start_time = time.time()\n",
    "run_model(model_2,batches=1, epochs=100, batch_size=batch_size)\n",
    "end_time = time.time()"
   ]
  },
  {
   "cell_type": "code",
   "execution_count": 67,
   "metadata": {},
   "outputs": [
    {
     "data": {
      "text/plain": [
       "7.560340174039205"
      ]
     },
     "execution_count": 67,
     "metadata": {},
     "output_type": "execute_result"
    }
   ],
   "source": [
    "run_time = (end_time - start_time)/60\n",
    "run_time"
   ]
  },
  {
   "cell_type": "code",
   "execution_count": 68,
   "metadata": {},
   "outputs": [],
   "source": [
    "total_loss = [j for i in total_loss for j in i]\n",
    "total_val_loss = [j for i in total_val_loss for j in i]"
   ]
  },
  {
   "cell_type": "code",
   "execution_count": 69,
   "metadata": {},
   "outputs": [
    {
     "data": {
      "image/png": "[encoded data removed]",
      "text/plain": [
       "<Figure size 864x504 with 1 Axes>"
      ]
     },
     "metadata": {},
     "output_type": "display_data"
    }
   ],
   "source": [
    "plot_loss(total_loss,total_val_loss)"
   ]
  },
  {
   "cell_type": "markdown",
   "metadata": {},
   "source": [
    "Рис. График зависимости ошибки обучения от количества эпох"
   ]
  },
  {
   "cell_type": "code",
   "execution_count": 70,
   "metadata": {},
   "outputs": [],
   "source": [
    "input_seq_test = x_train[-60:].reshape((1,60,1))\n",
    "output_seq_test = x_test[:20]\n",
    "decoder_input_test = np.zeros((1,output_seq_len,1))"
   ]
  },
  {
   "cell_type": "code",
   "execution_count": 60,
   "metadata": {},
   "outputs": [],
   "source": [
    "pred2 = model_2.predict([input_seq_test,decoder_input_test])"
   ]
  },
  {
   "cell_type": "code",
   "execution_count": 61,
   "metadata": {},
   "outputs": [],
   "source": [
    "pred_values2 = scaler.inverse_transform(pred2.reshape(-1,1))\n",
    "output_seq_test2 = scaler.inverse_transform(output_seq_test)"
   ]
  },
  {
   "cell_type": "code",
   "execution_count": 71,
   "metadata": {},
   "outputs": [
    {
     "data": {
      "image/png": "[encoded data removed]",
      "text/plain": [
       "<Figure size 432x288 with 1 Axes>"
      ]
     },
     "metadata": {},
     "output_type": "display_data"
    }
   ],
   "source": [
    "plt.plot(pred_values2, label = \"pred\")\n",
    "plt.plot(output_seq_test2, label = \"actual\")\n",
    "plt.title(\"1-напр 2-слойн\")\n",
    "plt.ylabel(\"Bid\", fontsize=12)\n",
    "plt.xlabel(\"Time\", fontsize=12)\n",
    "plt.legend()\n",
    "plt.savefig('uni_dir2.png')"
   ]
  },
  {
   "cell_type": "markdown",
   "metadata": {},
   "source": [
    "Рис. График прогнозируемой функции"
   ]
  },
  {
   "cell_type": "code",
   "execution_count": 72,
   "metadata": {},
   "outputs": [],
   "source": [
    "# # serialize model to JSON\n",
    "# model_json = model_2.to_json()\n",
    "# with open(\"model_2.json\", \"w\") as json_file:\n",
    "#     json_file.write(model_json)\n",
    "# # serialize weights to HDF5\n",
    "# model_2.save_weights(\"model_2.h5\")\n",
    "# print(\"Saved model to disk\")"
   ]
  },
  {
   "cell_type": "markdown",
   "metadata": {},
   "source": [
    "# 4. Двунаправленная 2-слойная модель"
   ]
  },
  {
   "cell_type": "code",
   "execution_count": 73,
   "metadata": {},
   "outputs": [],
   "source": [
    "model2_bi = create_model([60,60],bidirectional=True)"
   ]
  },
  {
   "cell_type": "code",
   "execution_count": 74,
   "metadata": {},
   "outputs": [],
   "source": [
    "# загрузка джейсона\n",
    "from keras.models import model_from_json\n",
    "\n",
    "# json_file = open('model2_bi.json', 'r')\n",
    "# loaded_model_json = json_file.read()\n",
    "# json_file.close()\n",
    "# model2_bi = model_from_json(loaded_model_json)\n",
    "# # load weights into new model\n",
    "# model2_bi.load_weights(\"model2_bi.h5\")\n",
    "# print(\"Loaded model from disk\")"
   ]
  },
  {
   "cell_type": "code",
   "execution_count": 75,
   "metadata": {},
   "outputs": [],
   "source": [
    "total_loss = []\n",
    "total_val_loss = []\n",
    "model2_bi.compile(Adam(), loss = 'mean_squared_error')"
   ]
  },
  {
   "cell_type": "code",
   "execution_count": 77,
   "metadata": {},
   "outputs": [
    {
     "name": "stdout",
     "output_type": "stream",
     "text": [
      "Epoch 1/100\n",
      "  2/227 [..............................] - ETA: 16s - loss: 0.1087WARNING:tensorflow:Callbacks method `on_train_batch_end` is slow compared to the batch time (batch time: 0.0270s vs `on_train_batch_end` time: 0.1150s). Check your callbacks.\n",
      "227/227 [==============================] - 6s 28ms/step - loss: 0.1490 - val_loss: 0.1306\n",
      "Epoch 2/100\n",
      "227/227 [==============================] - 6s 27ms/step - loss: 0.1470 - val_loss: 0.1307\n",
      "Epoch 3/100\n",
      "227/227 [==============================] - 6s 27ms/step - loss: 0.1452 - val_loss: 0.1300\n",
      "Epoch 4/100\n",
      "227/227 [==============================] - 6s 27ms/step - loss: 0.1433 - val_loss: 0.1286\n",
      "Epoch 5/100\n",
      "227/227 [==============================] - 6s 27ms/step - loss: 0.1418 - val_loss: 0.1279\n",
      "Epoch 6/100\n",
      "227/227 [==============================] - 6s 27ms/step - loss: 0.1434 - val_loss: 0.1291\n",
      "Epoch 7/100\n",
      "227/227 [==============================] - 6s 27ms/step - loss: 0.1399 - val_loss: 0.1248\n",
      "Epoch 8/100\n",
      "227/227 [==============================] - 6s 27ms/step - loss: 0.1393 - val_loss: 0.1291\n",
      "Epoch 9/100\n",
      "227/227 [==============================] - 6s 27ms/step - loss: 0.1381 - val_loss: 0.1241\n",
      "Epoch 10/100\n",
      "227/227 [==============================] - 6s 27ms/step - loss: 0.1358 - val_loss: 0.1237\n",
      "Epoch 11/100\n",
      "227/227 [==============================] - 6s 27ms/step - loss: 0.1358 - val_loss: 0.1301\n",
      "Epoch 12/100\n",
      "227/227 [==============================] - 6s 26ms/step - loss: 0.1352 - val_loss: 0.1242\n",
      "Epoch 13/100\n",
      "227/227 [==============================] - 6s 27ms/step - loss: 0.1338 - val_loss: 0.1204\n",
      "Epoch 14/100\n",
      "227/227 [==============================] - 6s 27ms/step - loss: 0.1382 - val_loss: 0.1255\n",
      "Epoch 15/100\n",
      "227/227 [==============================] - 6s 27ms/step - loss: 0.1374 - val_loss: 0.1225\n",
      "Epoch 16/100\n",
      "227/227 [==============================] - 6s 27ms/step - loss: 0.1311 - val_loss: 0.1204\n",
      "Epoch 17/100\n",
      "227/227 [==============================] - 6s 27ms/step - loss: 0.1320 - val_loss: 0.1231\n",
      "Epoch 18/100\n",
      "227/227 [==============================] - 6s 27ms/step - loss: 0.1322 - val_loss: 0.1208\n",
      "Epoch 19/100\n",
      "227/227 [==============================] - 6s 27ms/step - loss: 0.1290 - val_loss: 0.1214\n",
      "Epoch 20/100\n",
      "227/227 [==============================] - 6s 27ms/step - loss: 0.1304 - val_loss: 0.1198\n",
      "Epoch 21/100\n",
      "227/227 [==============================] - 6s 27ms/step - loss: 0.1295 - val_loss: 0.1187\n",
      "Epoch 22/100\n",
      "227/227 [==============================] - 6s 27ms/step - loss: 0.1243 - val_loss: 0.1147\n",
      "Epoch 23/100\n",
      "227/227 [==============================] - 6s 27ms/step - loss: 0.1201 - val_loss: 0.1201\n",
      "Epoch 24/100\n",
      "227/227 [==============================] - 6s 27ms/step - loss: 0.1302 - val_loss: 0.1179\n",
      "Epoch 25/100\n",
      "227/227 [==============================] - 6s 27ms/step - loss: 0.1298 - val_loss: 0.1086\n",
      "Epoch 26/100\n",
      "227/227 [==============================] - 6s 27ms/step - loss: 0.1165 - val_loss: 0.1059\n",
      "Epoch 27/100\n",
      "227/227 [==============================] - 6s 27ms/step - loss: 0.1149 - val_loss: 0.1023\n",
      "Epoch 28/100\n",
      "227/227 [==============================] - 6s 27ms/step - loss: 0.1108 - val_loss: 0.1000\n",
      "Epoch 29/100\n",
      "227/227 [==============================] - 6s 27ms/step - loss: 0.1101 - val_loss: 0.1004\n",
      "Epoch 30/100\n",
      "227/227 [==============================] - 6s 27ms/step - loss: 0.1065 - val_loss: 0.0982\n",
      "Epoch 31/100\n",
      "227/227 [==============================] - 6s 27ms/step - loss: 0.1039 - val_loss: 0.1008\n",
      "Epoch 32/100\n",
      "227/227 [==============================] - 6s 27ms/step - loss: 0.1038 - val_loss: 0.1135\n",
      "Epoch 33/100\n",
      "227/227 [==============================] - 6s 27ms/step - loss: 0.1082 - val_loss: 0.0993\n",
      "Epoch 34/100\n",
      "227/227 [==============================] - 6s 27ms/step - loss: 0.1029 - val_loss: 0.0987\n",
      "Epoch 35/100\n",
      "227/227 [==============================] - 6s 27ms/step - loss: 0.0993 - val_loss: 0.0926\n",
      "Epoch 36/100\n",
      "227/227 [==============================] - 6s 27ms/step - loss: 0.0961 - val_loss: 0.0962\n",
      "Epoch 37/100\n",
      "227/227 [==============================] - 6s 27ms/step - loss: 0.0959 - val_loss: 0.0907\n",
      "Epoch 38/100\n",
      "227/227 [==============================] - 6s 27ms/step - loss: 0.0945 - val_loss: 0.0906\n",
      "Epoch 39/100\n",
      "227/227 [==============================] - 6s 27ms/step - loss: 0.0909 - val_loss: 0.0937\n",
      "Epoch 40/100\n",
      "227/227 [==============================] - 6s 27ms/step - loss: 0.0901 - val_loss: 0.0872\n",
      "Epoch 41/100\n",
      "227/227 [==============================] - 6s 27ms/step - loss: 0.0878 - val_loss: 0.0821\n",
      "Epoch 42/100\n",
      "227/227 [==============================] - 6s 27ms/step - loss: 0.0893 - val_loss: 0.0790\n",
      "Epoch 43/100\n",
      "227/227 [==============================] - 6s 27ms/step - loss: 0.0865 - val_loss: 0.0790\n",
      "Epoch 44/100\n",
      "227/227 [==============================] - 6s 27ms/step - loss: 0.0855 - val_loss: 0.0880\n",
      "Epoch 45/100\n",
      "227/227 [==============================] - 6s 27ms/step - loss: 0.0842 - val_loss: 0.0907\n",
      "Epoch 46/100\n",
      "227/227 [==============================] - 6s 27ms/step - loss: 0.0789 - val_loss: 0.0795\n",
      "Epoch 47/100\n",
      "227/227 [==============================] - 6s 27ms/step - loss: 0.0831 - val_loss: 0.0765\n",
      "Epoch 48/100\n",
      "227/227 [==============================] - 6s 27ms/step - loss: 0.0759 - val_loss: 0.0686\n",
      "Epoch 49/100\n",
      "227/227 [==============================] - 6s 27ms/step - loss: 0.0736 - val_loss: 0.0746\n",
      "Epoch 50/100\n",
      "227/227 [==============================] - 6s 27ms/step - loss: 0.0745 - val_loss: 0.0722\n",
      "Epoch 51/100\n",
      "227/227 [==============================] - 6s 27ms/step - loss: 0.0725 - val_loss: 0.0676\n",
      "Epoch 52/100\n",
      "227/227 [==============================] - 6s 27ms/step - loss: 0.0823 - val_loss: 0.0700\n",
      "Epoch 53/100\n",
      "227/227 [==============================] - 6s 27ms/step - loss: 0.0678 - val_loss: 0.0774\n",
      "Epoch 54/100\n",
      "227/227 [==============================] - 6s 27ms/step - loss: 0.0693 - val_loss: 0.0669\n",
      "Epoch 55/100\n",
      "227/227 [==============================] - 6s 27ms/step - loss: 0.0606 - val_loss: 0.0628\n",
      "Epoch 56/100\n",
      "227/227 [==============================] - 6s 27ms/step - loss: 0.0747 - val_loss: 0.0610\n",
      "Epoch 57/100\n",
      "227/227 [==============================] - 6s 27ms/step - loss: 0.0610 - val_loss: 0.0692\n",
      "Epoch 58/100\n",
      "227/227 [==============================] - ETA: 0s - loss: 0.059 - 6s 27ms/step - loss: 0.0592 - val_loss: 0.0692\n",
      "Epoch 59/100\n",
      "227/227 [==============================] - 6s 27ms/step - loss: 0.0632 - val_loss: 0.0677\n",
      "Epoch 60/100\n",
      "227/227 [==============================] - 6s 27ms/step - loss: 0.0680 - val_loss: 0.0601\n",
      "Epoch 61/100\n",
      "227/227 [==============================] - 6s 27ms/step - loss: 0.0615 - val_loss: 0.0643\n",
      "Epoch 62/100\n",
      "227/227 [==============================] - 6s 27ms/step - loss: 0.0543 - val_loss: 0.0603\n",
      "Epoch 63/100\n",
      "227/227 [==============================] - 6s 27ms/step - loss: 0.0554 - val_loss: 0.0523\n",
      "Epoch 64/100\n",
      "227/227 [==============================] - 6s 27ms/step - loss: 0.0573 - val_loss: 0.0524\n",
      "Epoch 65/100\n",
      "227/227 [==============================] - 6s 27ms/step - loss: 0.0556 - val_loss: 0.0548\n",
      "Epoch 66/100\n",
      "227/227 [==============================] - 6s 27ms/step - loss: 0.0484 - val_loss: 0.0569\n",
      "Epoch 67/100\n",
      "227/227 [==============================] - 6s 27ms/step - loss: 0.0472 - val_loss: 0.0469\n",
      "Epoch 68/100\n",
      "227/227 [==============================] - 6s 27ms/step - loss: 0.0483 - val_loss: 0.0543\n",
      "Epoch 69/100\n",
      "227/227 [==============================] - 6s 27ms/step - loss: 0.0481 - val_loss: 0.0523\n",
      "Epoch 70/100\n",
      "227/227 [==============================] - 6s 27ms/step - loss: 0.0462 - val_loss: 0.0603\n",
      "Epoch 71/100\n",
      "227/227 [==============================] - 6s 27ms/step - loss: 0.0477 - val_loss: 0.0493\n",
      "Epoch 72/100\n",
      "227/227 [==============================] - 6s 27ms/step - loss: 0.0430 - val_loss: 0.0586\n",
      "Epoch 73/100\n",
      "227/227 [==============================] - 6s 27ms/step - loss: 0.0512 - val_loss: 0.0485\n",
      "Epoch 74/100\n",
      "227/227 [==============================] - 6s 27ms/step - loss: 0.0548 - val_loss: 0.0520\n",
      "Epoch 75/100\n",
      "227/227 [==============================] - 6s 27ms/step - loss: 0.0457 - val_loss: 0.0466\n",
      "Epoch 76/100\n",
      "227/227 [==============================] - 6s 27ms/step - loss: 0.0389 - val_loss: 0.0423\n",
      "Epoch 77/100\n",
      "227/227 [==============================] - 6s 27ms/step - loss: 0.0365 - val_loss: 0.0468\n",
      "Epoch 78/100\n"
     ]
    },
    {
     "name": "stdout",
     "output_type": "stream",
     "text": [
      "227/227 [==============================] - 6s 27ms/step - loss: 0.0378 - val_loss: 0.0462\n",
      "Epoch 79/100\n",
      "227/227 [==============================] - 6s 28ms/step - loss: 0.0484 - val_loss: 0.0503\n",
      "Epoch 80/100\n",
      "227/227 [==============================] - 6s 27ms/step - loss: 0.0529 - val_loss: 0.0465\n",
      "Epoch 81/100\n",
      "227/227 [==============================] - 6s 27ms/step - loss: 0.0429 - val_loss: 0.0426\n",
      "Epoch 82/100\n",
      "227/227 [==============================] - 6s 27ms/step - loss: 0.0364 - val_loss: 0.0415\n",
      "Epoch 83/100\n",
      "227/227 [==============================] - 6s 27ms/step - loss: 0.0357 - val_loss: 0.0413\n",
      "Epoch 84/100\n",
      "227/227 [==============================] - 6s 27ms/step - loss: 0.0330 - val_loss: 0.0445\n",
      "Epoch 85/100\n",
      "227/227 [==============================] - 6s 27ms/step - loss: 0.0332 - val_loss: 0.0370\n",
      "Epoch 86/100\n",
      "227/227 [==============================] - 6s 27ms/step - loss: 0.0342 - val_loss: 0.0417\n",
      "Epoch 87/100\n",
      "227/227 [==============================] - 6s 27ms/step - loss: 0.0328 - val_loss: 0.0435\n",
      "Epoch 88/100\n",
      "227/227 [==============================] - 6s 27ms/step - loss: 0.0541 - val_loss: 0.0457\n",
      "Epoch 89/100\n",
      "227/227 [==============================] - 6s 27ms/step - loss: 0.0453 - val_loss: 0.0453\n",
      "Epoch 90/100\n",
      "227/227 [==============================] - 6s 27ms/step - loss: 0.0382 - val_loss: 0.0470\n",
      "Epoch 91/100\n",
      "227/227 [==============================] - 6s 27ms/step - loss: 0.0315 - val_loss: 0.0331\n",
      "Epoch 92/100\n",
      "227/227 [==============================] - 6s 27ms/step - loss: 0.0315 - val_loss: 0.0481\n",
      "Epoch 93/100\n",
      "227/227 [==============================] - 6s 27ms/step - loss: 0.0330 - val_loss: 0.0346\n",
      "Epoch 94/100\n",
      "227/227 [==============================] - 6s 27ms/step - loss: 0.0393 - val_loss: 0.0380\n",
      "Epoch 95/100\n",
      "227/227 [==============================] - 6s 27ms/step - loss: 0.0309 - val_loss: 0.0336\n",
      "Epoch 96/100\n",
      "227/227 [==============================] - 6s 26ms/step - loss: 0.0301 - val_loss: 0.0399\n",
      "Epoch 97/100\n",
      "227/227 [==============================] - 6s 27ms/step - loss: 0.0283 - val_loss: 0.0364\n",
      "Epoch 98/100\n",
      "227/227 [==============================] - 6s 27ms/step - loss: 0.0292 - val_loss: 0.0366\n",
      "Epoch 99/100\n",
      "227/227 [==============================] - 6s 26ms/step - loss: 0.0292 - val_loss: 0.0398\n",
      "Epoch 100/100\n",
      "227/227 [==============================] - 6s 27ms/step - loss: 0.0349 - val_loss: 0.0372\n"
     ]
    }
   ],
   "source": [
    "start_time = time.time()\n",
    "run_model(model2_bi,batches=1, epochs=100, batch_size=batch_size)\n",
    "end_time = time.time()"
   ]
  },
  {
   "cell_type": "code",
   "execution_count": 78,
   "metadata": {},
   "outputs": [
    {
     "data": {
      "text/plain": [
       "10.222440799077352"
      ]
     },
     "execution_count": 78,
     "metadata": {},
     "output_type": "execute_result"
    }
   ],
   "source": [
    "run_time = (end_time - start_time)/60\n",
    "run_time"
   ]
  },
  {
   "cell_type": "code",
   "execution_count": 79,
   "metadata": {},
   "outputs": [],
   "source": [
    "total_loss = [j for i in total_loss for j in i]\n",
    "total_val_loss = [j for i in total_val_loss for j in i]"
   ]
  },
  {
   "cell_type": "code",
   "execution_count": 80,
   "metadata": {},
   "outputs": [
    {
     "data": {
      "image/png": "[encoded data removed]",
      "text/plain": [
       "<Figure size 864x504 with 1 Axes>"
      ]
     },
     "metadata": {},
     "output_type": "display_data"
    },
    {
     "data": {
      "text/plain": [
       "<Figure size 432x288 with 0 Axes>"
      ]
     },
     "metadata": {},
     "output_type": "display_data"
    }
   ],
   "source": [
    "plot_loss(total_loss,total_val_loss)\n",
    "plt.savefig('bi_los2.png')"
   ]
  },
  {
   "cell_type": "markdown",
   "metadata": {},
   "source": [
    "Рис. График зависимости ошибки обучения от количества эпох"
   ]
  },
  {
   "cell_type": "code",
   "execution_count": 81,
   "metadata": {},
   "outputs": [],
   "source": [
    "input_seq_test = x_train[-60:].reshape((1,60,1))\n",
    "output_seq_test = x_test[:20]\n",
    "decoder_input_test = np.zeros((1,output_seq_len,1))"
   ]
  },
  {
   "cell_type": "code",
   "execution_count": 82,
   "metadata": {},
   "outputs": [],
   "source": [
    "pred2_bi = model2_bi.predict([input_seq_test,decoder_input_test])"
   ]
  },
  {
   "cell_type": "code",
   "execution_count": 83,
   "metadata": {},
   "outputs": [],
   "source": [
    "pred_values2_bi = scaler.inverse_transform(pred2_bi.reshape(-1,1))\n",
    "output_seq_test2_bi = scaler.inverse_transform(output_seq_test)"
   ]
  },
  {
   "cell_type": "code",
   "execution_count": 84,
   "metadata": {},
   "outputs": [],
   "source": [
    "pred2_bi = model2_bi.predict([input_seq_test,decoder_input_test])"
   ]
  },
  {
   "cell_type": "code",
   "execution_count": 85,
   "metadata": {},
   "outputs": [
    {
     "data": {
      "image/png": "[encoded data removed]",
      "text/plain": [
       "<Figure size 432x288 with 1 Axes>"
      ]
     },
     "metadata": {},
     "output_type": "display_data"
    }
   ],
   "source": [
    "plt.plot(pred_values2_bi, label = \"pred\")\n",
    "plt.plot(output_seq_test2_bi, label = \"actual\")\n",
    "plt.title(\"2-напр 2-слойн\")\n",
    "plt.ylabel(\"Bid\", fontsize=12)\n",
    "plt.xlabel(\"Time\", fontsize=12)\n",
    "plt.legend()\n",
    "plt.savefig('bi_dir2.png')"
   ]
  },
  {
   "cell_type": "markdown",
   "metadata": {},
   "source": [
    "Рис. График прогнозируемой функции"
   ]
  },
  {
   "cell_type": "code",
   "execution_count": 86,
   "metadata": {},
   "outputs": [],
   "source": [
    "# serialize model to JSON\n",
    "# model_json = model2_bi.to_json()\n",
    "# with open(\"model2_bi.json\", \"w\") as json_file:\n",
    "#     json_file.write(model_json)\n",
    "# # serialize weights to HDF5\n",
    "# model2_bi.save_weights(\"model2_bi.h5\")\n",
    "# print(\"Saved model to disk\")"
   ]
  },
  {
   "cell_type": "markdown",
   "metadata": {},
   "source": [
    "# Прогнозирование на основе скользящего среднего (справочно)"
   ]
  },
  {
   "cell_type": "code",
   "execution_count": 4,
   "metadata": {},
   "outputs": [],
   "source": [
    "#import numpy as np \n",
    "#series = data['Bid']\n",
    "#series=np.log(series)"
   ]
  },
  {
   "cell_type": "code",
   "execution_count": 88,
   "metadata": {},
   "outputs": [
    {
     "data": {
      "text/plain": [
       "array([[870.3]])"
      ]
     },
     "execution_count": 88,
     "metadata": {},
     "output_type": "execute_result"
    }
   ],
   "source": [
    "def moving_average(series, n):\n",
    "    \"\"\"\n",
    "        Вычислить среднее за последние n наблюдений\n",
    "        Calculate average of last n observations\n",
    "    \"\"\"\n",
    "    return np.average(series[-n:])\n",
    "\n",
    "\n",
    "a=scaler.inverse_transform(moving_average(X, 500000).reshape(-1,1))\n",
    "a"
   ]
  },
  {
   "cell_type": "code",
   "execution_count": 89,
   "metadata": {},
   "outputs": [],
   "source": [
    "#893.16-"
   ]
  },
  {
   "cell_type": "markdown",
   "metadata": {},
   "source": [
    "## Вывод\n",
    "Из приведенных моделей наиболее адекватные результаты дает последняя из рассмотренных моделей. Эту модель предлагается использовать для дальнейшей реализации."
   ]
  }
 ],
 "metadata": {
  "kernelspec": {
   "display_name": "Python 3",
   "language": "python",
   "name": "python3"
  },
  "language_info": {
   "codemirror_mode": {
    "name": "ipython",
    "version": 3
   },
   "file_extension": ".py",
   "mimetype": "text/x-python",
   "name": "python",
   "nbconvert_exporter": "python",
   "pygments_lexer": "ipython3",
   "version": "3.7.6"
  }
 },
 "nbformat": 4,
 "nbformat_minor": 2
}
